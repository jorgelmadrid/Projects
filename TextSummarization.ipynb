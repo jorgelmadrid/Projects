{
 "cells": [
  {
   "cell_type": "code",
   "execution_count": 2,
   "metadata": {},
   "outputs": [],
   "source": [
    "import nltk"
   ]
  },
  {
   "cell_type": "code",
   "execution_count": 3,
   "metadata": {},
   "outputs": [],
   "source": [
    "text_str = '''El asgardiano Loki se encuentra con el Otro, el líder de una raza extraterrestre conocida como los chitauri. A cambio por recuperar el Teseracto,N 2​ una poderosa fuente de energía de potencial desconocido, el Otro le promete a Loki un ejército con el que pueda dominar la Tierra. Nick Fury, director de la agencia de espionaje S.H.I.E.L.D., y su teniente la agente Maria Hill llegan a un lejano centro de investigación durante una evacuación, donde el físico Dr. Erik Selvig conduce un equipo de investigación que experimenta con el Teseracto. El agente Phil Coulson explica que el objeto ha comenzado a irradiar una extraña forma de energía. De repente, el Teseracto se activa y abre un agujero de gusano, que le permite a Loki llegar a la Tierra. Loki toma el Teseracto y usa su cetro para esclavizar a Selvig y a algunos otros agentes, entre ellos Clint Barton, para que lo ayuden a escapar.\n",
    "\n",
    "En respuesta a su ataque, Fury reactiva la \"Iniciativa Vengadores\". La agente Natasha Romanoff es enviada a Calcuta para reclutar al Dr. Bruce Banner para que localize al Teseracto mediante sus emisiones de radiación gamma. Coulson visita a Tony Stark para que revise la investigación de Selvig, y Fury le da a Steve Rogers la tarea de recuperar el Teseracto.\n",
    "\n",
    "En Stuttgart, Barton roba iridio necesario para estabilizar el poder del Teseracto mientras Loki causa una distracción, lo que conduce a una pequeña confrontación con Rogers, Stark y Romanoff que termina con la rendición de Loki. Mientras escoltan a Loki a S.H.I.E.L.D., Thor, su hermano adoptivo, llega y lo libera, con la esperanza de convencerlo de que abandone su plan y regrese a Asgard. Después de una confrontación con Stark y Rogers, Thor acepta llevar a Loki al portaaviones volador de S.H.I.E.L.D., el Helitransporte. Al llegar, Loki es encarcelado mientras Banner y Stark intentan localizar el Teseracto.\n",
    "\n",
    "Los Vengadores se dividen, sobre cómo encargarse de Loki y por la revelación de los planes de S.H.I.E.L.D. de aprovechar el Teseracto para desarrollar armas como fuerza disuasiva contra extraterrestres hostiles. Mientras el grupo discute, Barton y los otros agentes poseídos por Loki atacan el Helitransporte, inhabilitan una de sus turbinas en vuelo y causan que Banner se transforme en Hulk. Stark y Rogers trabajan para reiniciar la turbina dañada, y Thor intenta detener la destrucción de Hulk. Romanoff combate con reticencia a Barton, y lo deja inconsciente, rompiendo el control mental de Loki. Loki escapa después de matar a Coulson y expulsar a Thor de la nave, mientras Hulk cae al suelo luego de atacar un avión de combate de S.H.I.E.L.D. Fury usa la muerte de Coulson para motivar que los Vengadores trabajen en equipo. Stark y Rogers se dan cuenta de que para Loki, simplemente derrotarlos no será suficiente; necesita vencerlos en público para validarse como soberano de la Tierra. Loki usa el Teseracto, en conjunto con un artefacto que Selvig construyó, para abrir un agujero de gusano sobre la Torre Stark para la flota chitauri en el espacio, y así comenzar su invasión.\n",
    "\n",
    "Rogers, Stark, Romanoff, Barton y Thor se reúnen en defensa de Nueva York, la ubicación del agujero de gusano. Banner llega y se transforma en Hulk, y juntos los Vengadores combaten a los chitauri mientras evacuan ciudadanos. Hulk encuentra a Loki y lo golpea hasta someterlo. Romanoff se hace camino al generador de agujero de gusano, donde Selvig, liberado del control mental de Loki, revela que el cetro de Loki puede usarse para apagar el generador. Mientras tanto, los superiores de Fury del Consejo Mundial de Seguridad intentan acabar con la invasión lanzando un misil nuclear a Midtown Manhattan. Stark intercepta el misil y lo lleva a través del agujero del gusano hasta la flota chitauri. El misil detona, destruye la nave nodriza chitauri y desactiva sus fuerzas en la Tierra. El traje de Stark se queda sin energía, y él cae por el agujero de gusano justo cuando Romanoff lo cierra. Stark entra en caída libre, pero Hulk lo salva de estrellarse contra el suelo. Más tarde, Thor regresa a Loki y el Teseracto a Asgard, mientras Fury expresa confianza de que los Vengadores regresarán cuando los necesiten.\n",
    "\n",
    "En una escena entre créditos, el Otro confiere con Thanos sobre el ataque fallido a la Tierra. En una escena poscréditos, los Vengadores comen en silencio en un restaurante de shawarma.\n",
    "'''"
   ]
  },
  {
   "cell_type": "code",
   "execution_count": 4,
   "metadata": {},
   "outputs": [],
   "source": [
    "sentence_list = nltk.sent_tokenize(text_str)"
   ]
  },
  {
   "cell_type": "code",
   "execution_count": 5,
   "metadata": {},
   "outputs": [],
   "source": [
    "stopwords = nltk.corpus.stopwords.words('spanish')\n",
    "\n",
    "word_frequencies = {}  \n",
    "for word in nltk.word_tokenize(text_str):  \n",
    "    if word not in stopwords:\n",
    "        if word not in word_frequencies.keys():\n",
    "            word_frequencies[word] = 1\n",
    "        else:\n",
    "            word_frequencies[word] += 1\n",
    "\n",
    "maximum_frequncy = max(word_frequencies.values())"
   ]
  },
  {
   "cell_type": "code",
   "execution_count": 6,
   "metadata": {},
   "outputs": [],
   "source": [
    "for word in word_frequencies.keys():  \n",
    "    word_frequencies[word] = (word_frequencies[word]/maximum_frequncy)"
   ]
  },
  {
   "cell_type": "code",
   "execution_count": 7,
   "metadata": {},
   "outputs": [],
   "source": [
    "sentence_scores = {}  \n",
    "for sent in sentence_list:  \n",
    "    for word in nltk.word_tokenize(sent.lower()):\n",
    "        if word in word_frequencies.keys():\n",
    "            if len(sent.split(' ')) < 30:\n",
    "                if sent not in sentence_scores.keys():\n",
    "                    sentence_scores[sent] = word_frequencies[word]\n",
    "                else:\n",
    "                    sentence_scores[sent] += word_frequencies[word]"
   ]
  },
  {
   "cell_type": "code",
   "execution_count": 10,
   "metadata": {},
   "outputs": [],
   "source": [
    "import heapq  \n",
    "summary_sentences = heapq.nlargest(2, sentence_scores, key=sentence_scores.get)"
   ]
  },
  {
   "cell_type": "code",
   "execution_count": 11,
   "metadata": {},
   "outputs": [
    {
     "name": "stdout",
     "output_type": "stream",
     "text": [
      "Mientras escoltan a Loki a S.H.I.E.L.D., Thor, su hermano adoptivo, llega y lo libera, con la esperanza de convencerlo de que abandone su plan y regrese a Asgard. Rogers, Stark, Romanoff, Barton y Thor se reúnen en defensa de Nueva York, la ubicación del agujero de gusano.\n"
     ]
    }
   ],
   "source": [
    "summary = ' '.join(summary_sentences)  \n",
    "print(summary)"
   ]
  }
 ],
 "metadata": {
  "kernelspec": {
   "display_name": "Python 3",
   "language": "python",
   "name": "python3"
  },
  "language_info": {
   "codemirror_mode": {
    "name": "ipython",
    "version": 3
   },
   "file_extension": ".py",
   "mimetype": "text/x-python",
   "name": "python",
   "nbconvert_exporter": "python",
   "pygments_lexer": "ipython3",
   "version": "3.7.3"
  }
 },
 "nbformat": 4,
 "nbformat_minor": 2
}
