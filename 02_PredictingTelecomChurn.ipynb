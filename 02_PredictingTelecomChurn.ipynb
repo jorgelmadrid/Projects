{
 "cells": [
  {
   "cell_type": "markdown",
   "metadata": {},
   "source": [
    "# Predicting Telecom Customer Churn\n",
    "\n",
    "The Telecom Customer Churn dataset contains 100 different variables and 100.000 records. The response variable here is churn which explains whether the customer will churn or not.  \n",
    "\n",
    "Using the available data, I'll develop and train a machine learning model to predict whether a customer is likely to churn or not. I'll be using data from the past, including customers that already have churned (response) and their characteristics / behaviour (predictors) before the churn happened. This method belongs to the supervised learning category.\n",
    "\n",
    "## Methodology:  \n",
    "\n",
    "**1. Exploratory analysis:** Randomly picked several variables to do exploratory analysis realted to the response variable (churn).\n",
    "\n",
    "\n",
    "**2. Data Preparation:**  \n",
    "- High correlated continuous variables\n",
    "- Types of variables: categorical, continuos and discrete variables.\n",
    "- Missing values: missing data was replaced with substituted values.\n",
    "- Encoding: Label encoding for binary columns and one hot encoding for categorical variables with more than 2 values\n",
    "- Standardization:  of datasets is a common requirement for many machine learning estimators implemented in scikit-learn; they might behave badly if the individual features do not more or less look like standard normally distributed data: Gaussian with zero mean and unit variance.  \n",
    "\n",
    "**3. Building a Predicitive Model:** Three different models were train to predict customer churn:\n",
    "\n",
    "- Logistic Regression\n",
    "- Random Forest Classifier\n",
    "- XGBoost\n",
    "\n",
    "**4. Dimensionality Reduction:** for reducing the number of variables under consideration by obtaining a set of principal variables."
   ]
  },
  {
   "cell_type": "code",
   "execution_count": 2,
   "metadata": {},
   "outputs": [],
   "source": [
    "# importing modules\n",
    "import pandas as pd\n",
    "import numpy as np\n",
    "import matplotlib.pyplot as plt\n",
    "import seaborn as sns\n",
    "from sklearn.model_selection import train_test_split\n",
    "import scipy.stats as stats\n",
    "from sklearn.ensemble import RandomForestClassifier\n",
    "from sklearn.linear_model import LogisticRegression\n",
    "from sklearn.feature_selection import RFE\n",
    "from sklearn import metrics\n",
    "from sklearn.preprocessing import LabelEncoder\n",
    "from sklearn.preprocessing import StandardScaler\n",
    "%matplotlib inline"
   ]
  },
  {
   "cell_type": "code",
   "execution_count": 3,
   "metadata": {},
   "outputs": [
    {
     "name": "stdout",
     "output_type": "stream",
     "text": [
      "(100000, 100)\n"
     ]
    },
    {
     "data": {
      "text/html": [
       "<div>\n",
       "<style scoped>\n",
       "    .dataframe tbody tr th:only-of-type {\n",
       "        vertical-align: middle;\n",
       "    }\n",
       "\n",
       "    .dataframe tbody tr th {\n",
       "        vertical-align: top;\n",
       "    }\n",
       "\n",
       "    .dataframe thead th {\n",
       "        text-align: right;\n",
       "    }\n",
       "</style>\n",
       "<table border=\"1\" class=\"dataframe\">\n",
       "  <thead>\n",
       "    <tr style=\"text-align: right;\">\n",
       "      <th></th>\n",
       "      <th>rev_mean</th>\n",
       "      <th>mou_mean</th>\n",
       "      <th>totmrc_mean</th>\n",
       "      <th>da_mean</th>\n",
       "      <th>ovrmou_mean</th>\n",
       "      <th>ovrrev_mean</th>\n",
       "      <th>vceovr_mean</th>\n",
       "      <th>datovr_mean</th>\n",
       "      <th>roam_mean</th>\n",
       "      <th>change_mou</th>\n",
       "      <th>...</th>\n",
       "      <th>forgntvl</th>\n",
       "      <th>ethnic</th>\n",
       "      <th>kid0_2</th>\n",
       "      <th>kid3_5</th>\n",
       "      <th>kid6_10</th>\n",
       "      <th>kid11_15</th>\n",
       "      <th>kid16_17</th>\n",
       "      <th>creditcd</th>\n",
       "      <th>eqpdays</th>\n",
       "      <th>customer_id</th>\n",
       "    </tr>\n",
       "  </thead>\n",
       "  <tbody>\n",
       "    <tr>\n",
       "      <th>0</th>\n",
       "      <td>23.9975</td>\n",
       "      <td>219.25</td>\n",
       "      <td>22.500</td>\n",
       "      <td>0.2475</td>\n",
       "      <td>0.00</td>\n",
       "      <td>0.0</td>\n",
       "      <td>0.0</td>\n",
       "      <td>0.0</td>\n",
       "      <td>0.0</td>\n",
       "      <td>-157.25</td>\n",
       "      <td>...</td>\n",
       "      <td>0.0</td>\n",
       "      <td>N</td>\n",
       "      <td>U</td>\n",
       "      <td>U</td>\n",
       "      <td>U</td>\n",
       "      <td>U</td>\n",
       "      <td>U</td>\n",
       "      <td>Y</td>\n",
       "      <td>361.0</td>\n",
       "      <td>1000001</td>\n",
       "    </tr>\n",
       "    <tr>\n",
       "      <th>1</th>\n",
       "      <td>57.4925</td>\n",
       "      <td>482.75</td>\n",
       "      <td>37.425</td>\n",
       "      <td>0.2475</td>\n",
       "      <td>22.75</td>\n",
       "      <td>9.1</td>\n",
       "      <td>9.1</td>\n",
       "      <td>0.0</td>\n",
       "      <td>0.0</td>\n",
       "      <td>532.25</td>\n",
       "      <td>...</td>\n",
       "      <td>0.0</td>\n",
       "      <td>Z</td>\n",
       "      <td>U</td>\n",
       "      <td>U</td>\n",
       "      <td>U</td>\n",
       "      <td>U</td>\n",
       "      <td>U</td>\n",
       "      <td>Y</td>\n",
       "      <td>240.0</td>\n",
       "      <td>1000002</td>\n",
       "    </tr>\n",
       "    <tr>\n",
       "      <th>2</th>\n",
       "      <td>16.9900</td>\n",
       "      <td>10.25</td>\n",
       "      <td>16.990</td>\n",
       "      <td>0.0000</td>\n",
       "      <td>0.00</td>\n",
       "      <td>0.0</td>\n",
       "      <td>0.0</td>\n",
       "      <td>0.0</td>\n",
       "      <td>0.0</td>\n",
       "      <td>-4.25</td>\n",
       "      <td>...</td>\n",
       "      <td>0.0</td>\n",
       "      <td>N</td>\n",
       "      <td>U</td>\n",
       "      <td>Y</td>\n",
       "      <td>U</td>\n",
       "      <td>U</td>\n",
       "      <td>U</td>\n",
       "      <td>Y</td>\n",
       "      <td>1504.0</td>\n",
       "      <td>1000003</td>\n",
       "    </tr>\n",
       "    <tr>\n",
       "      <th>3</th>\n",
       "      <td>38.0000</td>\n",
       "      <td>7.50</td>\n",
       "      <td>38.000</td>\n",
       "      <td>0.0000</td>\n",
       "      <td>0.00</td>\n",
       "      <td>0.0</td>\n",
       "      <td>0.0</td>\n",
       "      <td>0.0</td>\n",
       "      <td>0.0</td>\n",
       "      <td>-1.50</td>\n",
       "      <td>...</td>\n",
       "      <td>0.0</td>\n",
       "      <td>U</td>\n",
       "      <td>Y</td>\n",
       "      <td>U</td>\n",
       "      <td>U</td>\n",
       "      <td>U</td>\n",
       "      <td>U</td>\n",
       "      <td>Y</td>\n",
       "      <td>1812.0</td>\n",
       "      <td>1000004</td>\n",
       "    </tr>\n",
       "    <tr>\n",
       "      <th>4</th>\n",
       "      <td>55.2300</td>\n",
       "      <td>570.50</td>\n",
       "      <td>71.980</td>\n",
       "      <td>0.0000</td>\n",
       "      <td>0.00</td>\n",
       "      <td>0.0</td>\n",
       "      <td>0.0</td>\n",
       "      <td>0.0</td>\n",
       "      <td>0.0</td>\n",
       "      <td>38.50</td>\n",
       "      <td>...</td>\n",
       "      <td>0.0</td>\n",
       "      <td>I</td>\n",
       "      <td>U</td>\n",
       "      <td>U</td>\n",
       "      <td>U</td>\n",
       "      <td>U</td>\n",
       "      <td>U</td>\n",
       "      <td>Y</td>\n",
       "      <td>434.0</td>\n",
       "      <td>1000005</td>\n",
       "    </tr>\n",
       "  </tbody>\n",
       "</table>\n",
       "<p>5 rows × 100 columns</p>\n",
       "</div>"
      ],
      "text/plain": [
       "   rev_mean  mou_mean  totmrc_mean  da_mean  ovrmou_mean  ovrrev_mean  \\\n",
       "0   23.9975    219.25       22.500   0.2475         0.00          0.0   \n",
       "1   57.4925    482.75       37.425   0.2475        22.75          9.1   \n",
       "2   16.9900     10.25       16.990   0.0000         0.00          0.0   \n",
       "3   38.0000      7.50       38.000   0.0000         0.00          0.0   \n",
       "4   55.2300    570.50       71.980   0.0000         0.00          0.0   \n",
       "\n",
       "   vceovr_mean  datovr_mean  roam_mean  change_mou  ...  forgntvl  ethnic  \\\n",
       "0          0.0          0.0        0.0     -157.25  ...       0.0       N   \n",
       "1          9.1          0.0        0.0      532.25  ...       0.0       Z   \n",
       "2          0.0          0.0        0.0       -4.25  ...       0.0       N   \n",
       "3          0.0          0.0        0.0       -1.50  ...       0.0       U   \n",
       "4          0.0          0.0        0.0       38.50  ...       0.0       I   \n",
       "\n",
       "   kid0_2  kid3_5  kid6_10  kid11_15  kid16_17  creditcd  eqpdays  customer_id  \n",
       "0       U       U        U         U         U         Y    361.0      1000001  \n",
       "1       U       U        U         U         U         Y    240.0      1000002  \n",
       "2       U       Y        U         U         U         Y   1504.0      1000003  \n",
       "3       Y       U        U         U         U         Y   1812.0      1000004  \n",
       "4       U       U        U         U         U         Y    434.0      1000005  \n",
       "\n",
       "[5 rows x 100 columns]"
      ]
     },
     "execution_count": 3,
     "metadata": {},
     "output_type": "execute_result"
    }
   ],
   "source": [
    "# load dataset\n",
    "data = pd.read_csv('Telecom_customer churn.csv')\n",
    "# lowercase all columns name \n",
    "data.columns = map(str.lower, data.columns)\n",
    "# fill na with np.nan\n",
    "data = data.fillna(np.nan)\n",
    "print(data.shape)\n",
    "data.head()"
   ]
  },
  {
   "cell_type": "markdown",
   "metadata": {},
   "source": [
    "# 1. Exploratory analysis"
   ]
  },
  {
   "cell_type": "markdown",
   "metadata": {},
   "source": [
    "- The dataset is balanced, oversampling won't be performed\n",
    "- Churn is higher in new cell users\n",
    "- By marital status, the biggest churn rate occurs in status 'U', followed by 'M' and 'S'. Assuming that 'U' is unknown, married people tend to leave the company more frequently than single people.\n",
    "- Churn by total calls, is higher in people with less calls as expected: people who doesn't use the service is more likely to leave the company."
   ]
  },
  {
   "cell_type": "code",
   "execution_count": 4,
   "metadata": {},
   "outputs": [],
   "source": [
    "# create a function to easily plot figures\n",
    "def barplot(index, column, title):\n",
    "    pd.crosstab(index,column).plot(kind='bar', stacked=True, rot=0, alpha=0.5, align='center', width=0.7)\n",
    "    # remove all the ticks (both axes)\n",
    "    plt.tick_params(top=False, bottom=False, left=True, right=False, labelleft=True, labelbottom=True)\n",
    "    # remove the frame of the chart\n",
    "    for spine in plt.gca().spines.values():\n",
    "        spine.set_visible(False)\n",
    "    plt.title(title)\n",
    "    plt.show()"
   ]
  },
  {
   "cell_type": "code",
   "execution_count": 5,
   "metadata": {},
   "outputs": [
    {
     "data": {
      "text/plain": [
       "0    50438\n",
       "1    49562\n",
       "Name: churn, dtype: int64"
      ]
     },
     "execution_count": 5,
     "metadata": {},
     "output_type": "execute_result"
    }
   ],
   "source": [
    "# checking the churn distribution\n",
    "data['churn'].value_counts()"
   ]
  },
  {
   "cell_type": "code",
   "execution_count": 153,
   "metadata": {},
   "outputs": [
    {
     "data": {
      "image/png": "[encoded data removed]",
      "text/plain": [
       "<Figure size 432x288 with 1 Axes>"
      ]
     },
     "metadata": {
      "needs_background": "light"
     },
     "output_type": "display_data"
    },
    {
     "data": {
      "image/png": "[encoded data removed]",
      "text/plain": [
       "<Figure size 432x288 with 1 Axes>"
      ]
     },
     "metadata": {
      "needs_background": "light"
     },
     "output_type": "display_data"
    }
   ],
   "source": [
    "barplot(data['new_cell'], data['churn'], 'Churn by new cell users')\n",
    "barplot(data['marital'], data['churn'], 'Churn by marital status')"
   ]
  },
  {
   "cell_type": "code",
   "execution_count": 154,
   "metadata": {},
   "outputs": [
    {
     "data": {
      "image/png": "[encoded data removed]",
      "text/plain": [
       "<Figure size 432x288 with 1 Axes>"
      ]
     },
     "metadata": {
      "needs_background": "light"
     },
     "output_type": "display_data"
    },
    {
     "data": {
      "image/png": "[encoded data removed]",
      "text/plain": [
       "<Figure size 432x288 with 1 Axes>"
      ]
     },
     "metadata": {
      "needs_background": "light"
     },
     "output_type": "display_data"
    }
   ],
   "source": [
    "data['totcalls'].hist()\n",
    "data_expl = data.copy()\n",
    "data_expl['totcalls_cat'] = pd.cut(data['totcalls'], bins=[0, 1000, 2000, 3000, 4000, 5000, np.inf], \n",
    "                               labels=['0-1k', '1k-2k', '2k-3k', '3k-4k', '4k-5k', '+5k'])\n",
    "barplot(data_expl['totcalls_cat'], data['churn'], 'Churn by group of total calls')"
   ]
  },
  {
   "cell_type": "code",
   "execution_count": 155,
   "metadata": {},
   "outputs": [
    {
     "data": {
      "image/png": "[encoded data removed]",
      "text/plain": [
       "<Figure size 432x288 with 1 Axes>"
      ]
     },
     "metadata": {
      "needs_background": "light"
     },
     "output_type": "display_data"
    },
    {
     "data": {
      "image/png": "[encoded data removed]",
      "text/plain": [
       "<Figure size 432x288 with 1 Axes>"
      ]
     },
     "metadata": {
      "needs_background": "light"
     },
     "output_type": "display_data"
    }
   ],
   "source": [
    "data['rev_mean'].hist()\n",
    "data_expl['rev_mean_cat'] = pd.cut(data['rev_mean'], bins=[0, 50, 100, 150, 200, 250, np.inf], \n",
    "                               labels=['0-50', '50-100', '100-150', '150-200', '200-250', '+250'])\n",
    "barplot(data_expl['rev_mean_cat'], data['churn'], 'Churn by mean monthly revenue')"
   ]
  },
  {
   "cell_type": "markdown",
   "metadata": {},
   "source": [
    "# 2. Data Preparation"
   ]
  },
  {
   "cell_type": "markdown",
   "metadata": {},
   "source": [
    "#### Correlation\n",
    "\n",
    "Variables with high correlation (>0.8) will be deleted from the data set, to improve machine learning model performance."
   ]
  },
  {
   "cell_type": "code",
   "execution_count": 156,
   "metadata": {},
   "outputs": [
    {
     "data": {
      "text/plain": [
       "(100000, 77)"
      ]
     },
     "execution_count": 156,
     "metadata": {},
     "output_type": "execute_result"
    }
   ],
   "source": [
    "num_columns = list(data.select_dtypes(include=['int64','float64']).columns)  \n",
    "num_data = data[num_columns].drop(['customer_id', 'churn'],axis=1)\n",
    "num_data.shape"
   ]
  },
  {
   "cell_type": "code",
   "execution_count": 157,
   "metadata": {},
   "outputs": [
    {
     "name": "stdout",
     "output_type": "stream",
     "text": [
      "There are: 36 highly correlated features.\n",
      "\n",
      "\n",
      "{'peak_dat_mean', 'mou_cvce_mean', 'adjqty', 'adjmou', 'owylis_vce_mean', 'opk_dat_mean', 'comp_dat_mean', 'plcd_vce_mean', 'vceovr_mean', 'avg6mou', 'mou_rvce_mean', 'adjrev', 'avg6qty', 'complete_mean', 'attempt_mean', 'models', 'comp_vce_mean', 'avg3mou', 'avg3rev', 'drop_blk_mean', 'mouowylisv_mean', 'inonemin_mean', 'totmou', 'mou_peav_mean', 'cc_mou_mean', 'mou_opkv_mean', 'peak_vce_mean', 'avg3qty', 'mou_opkd_mean', 'ccrndmou_mean', 'avgqty', 'ovrrev_mean', 'totrev', 'opk_vce_mean', 'avgmou', 'avg6rev'}\n"
     ]
    }
   ],
   "source": [
    "correlated_features = set()  \n",
    "correlation_matrix = num_data.corr() \n",
    "\n",
    "for i in range(len(correlation_matrix.columns)):  \n",
    "    for j in range(i):\n",
    "        if abs(correlation_matrix.iloc[i, j]) > 0.8:\n",
    "            colname = correlation_matrix.columns[i]\n",
    "            correlated_features.add(colname)\n",
    "\n",
    "print('There are:', len(correlated_features), 'highly correlated features.')\n",
    "print('\\n')\n",
    "print(correlated_features)"
   ]
  },
  {
   "cell_type": "code",
   "execution_count": 158,
   "metadata": {},
   "outputs": [
    {
     "data": {
      "text/plain": [
       "(100000, 64)"
      ]
     },
     "execution_count": 158,
     "metadata": {},
     "output_type": "execute_result"
    }
   ],
   "source": [
    "# new df shape after dropping correlated features\n",
    "data.drop(correlated_features, axis=1, inplace=True)\n",
    "data.shape"
   ]
  },
  {
   "cell_type": "markdown",
   "metadata": {},
   "source": [
    "#### Types of variables"
   ]
  },
  {
   "cell_type": "code",
   "execution_count": 159,
   "metadata": {},
   "outputs": [
    {
     "name": "stdout",
     "output_type": "stream",
     "text": [
      "There are 41 numerical variables\n"
     ]
    }
   ],
   "source": [
    "# find numerical variables\n",
    "numerical = list(data.drop(['customer_id', 'churn'], axis=1).select_dtypes(include=['float64', 'int64']))\n",
    "print('There are {} numerical variables'.format(len(numerical)))"
   ]
  },
  {
   "cell_type": "code",
   "execution_count": 160,
   "metadata": {},
   "outputs": [
    {
     "name": "stdout",
     "output_type": "stream",
     "text": [
      "uniqsubs : [  2   1   3   5   4   6   7   9   8  12  11  10  13  18 196]\n",
      "actvsubs : [ 1  2  3  4  0  5  6  7  8  9 53 11]\n",
      "truck : [ 0.  1. nan]\n",
      "rv : [ 0.  1. nan]\n",
      "lor : [15.  1.  7.  6.  5.  8.  0.  3.  4. 11. 10. 13. nan  2. 14. 12.  9.]\n",
      "adults : [ 1.  2.  4.  3.  5. nan  6.]\n",
      "income : [ 4.  5.  6.  9.  1.  7.  3. nan  8.  2.]\n",
      "numbcars : [ 3.  1.  2. nan]\n",
      "forgntvl : [ 0.  1. nan]\n"
     ]
    }
   ],
   "source": [
    "# let's visualise the values of the discrete variables\n",
    "discrete = []\n",
    "for var in numerical:\n",
    "    if len(data[var].unique())<18 and var not in ['customer_id', 'churn']:\n",
    "        print(var,':', data[var].unique())\n",
    "        discrete.append(var)"
   ]
  },
  {
   "cell_type": "markdown",
   "metadata": {},
   "source": [
    "We'll have to change the dtypes of the following variables to object: forgntvl, rv and truck"
   ]
  },
  {
   "cell_type": "code",
   "execution_count": 161,
   "metadata": {},
   "outputs": [],
   "source": [
    "# changing their dtype\n",
    "to_object = ['forgntvl', 'rv', 'truck']\n",
    "\n",
    "for var in to_object:\n",
    "    data[var] = data[var].astype('object')"
   ]
  },
  {
   "cell_type": "code",
   "execution_count": 162,
   "metadata": {},
   "outputs": [
    {
     "name": "stdout",
     "output_type": "stream",
     "text": [
      "There are 24 categorical variables\n"
     ]
    }
   ],
   "source": [
    "# categorical variables\n",
    "categorical = list(data.select_dtypes(include='object'))\n",
    "print('There are {} categorical variables'.format(len(categorical)))"
   ]
  },
  {
   "cell_type": "markdown",
   "metadata": {},
   "source": [
    "#### Missing values"
   ]
  },
  {
   "cell_type": "code",
   "execution_count": 163,
   "metadata": {},
   "outputs": [
    {
     "data": {
      "text/plain": [
       "rev_mean              357\n",
       "mou_mean              357\n",
       "totmrc_mean           357\n",
       "da_mean               357\n",
       "ovrmou_mean           357\n",
       "datovr_mean           357\n",
       "roam_mean             357\n",
       "change_mou            891\n",
       "change_rev            891\n",
       "drop_vce_mean           0\n",
       "drop_dat_mean           0\n",
       "blck_vce_mean           0\n",
       "blck_dat_mean           0\n",
       "unan_vce_mean           0\n",
       "unan_dat_mean           0\n",
       "plcd_dat_mean           0\n",
       "recv_vce_mean           0\n",
       "recv_sms_mean           0\n",
       "custcare_mean           0\n",
       "threeway_mean           0\n",
       "mou_cdat_mean           0\n",
       "iwylis_vce_mean         0\n",
       "mouiwylisv_mean         0\n",
       "mou_pead_mean           0\n",
       "callfwdv_mean           0\n",
       "callwait_mean           0\n",
       "churn                   0\n",
       "months                  0\n",
       "uniqsubs                0\n",
       "actvsubs                0\n",
       "                    ...  \n",
       "avgrev                  0\n",
       "prizm_social_one     7388\n",
       "area                   40\n",
       "dualband                1\n",
       "refurb_new              1\n",
       "hnd_price             847\n",
       "phones                  1\n",
       "hnd_webcap          10189\n",
       "truck                1732\n",
       "rv                   1732\n",
       "ownrent             33706\n",
       "lor                 30190\n",
       "dwlltype            31909\n",
       "marital              1732\n",
       "adults              23019\n",
       "infobase            22079\n",
       "income              25436\n",
       "numbcars            49366\n",
       "hhstatin            37923\n",
       "dwllsize            38308\n",
       "forgntvl             1732\n",
       "ethnic               1732\n",
       "kid0_2               1732\n",
       "kid3_5               1732\n",
       "kid6_10              1732\n",
       "kid11_15             1732\n",
       "kid16_17             1732\n",
       "creditcd             1732\n",
       "eqpdays                 1\n",
       "customer_id             0\n",
       "Length: 64, dtype: int64"
      ]
     },
     "execution_count": 163,
     "metadata": {},
     "output_type": "execute_result"
    }
   ],
   "source": [
    "# checking for missing values\n",
    "data.isnull().sum()"
   ]
  },
  {
   "cell_type": "markdown",
   "metadata": {},
   "source": [
    "There are a several variables that contain missing information (NaN)."
   ]
  },
  {
   "cell_type": "code",
   "execution_count": 164,
   "metadata": {},
   "outputs": [
    {
     "name": "stdout",
     "output_type": "stream",
     "text": [
      "ownrent ['O' nan 'R']\n",
      "lor [15.  1.  7.  6.  5.  8.  0.  3.  4. 11. 10. 13. nan  2. 14. 12.  9.]\n",
      "dwlltype ['S' 'M' nan]\n",
      "adults [ 1.  2.  4.  3.  5. nan  6.]\n",
      "infobase ['M' nan 'N']\n",
      "income [ 4.  5.  6.  9.  1.  7.  3. nan  8.  2.]\n",
      "numbcars [ 3.  1.  2. nan]\n",
      "hhstatin ['C' 'I' nan 'B' 'A' 'G' 'H']\n",
      "dwllsize ['A' 'D' 'O' nan 'E' 'J' 'C' 'B' 'I' 'N' 'K' 'L' 'G' 'H' 'M' 'F']\n"
     ]
    }
   ],
   "source": [
    "# variables with more than 20% of missing information\n",
    "for var in data.columns:\n",
    "    if data[var].isnull().mean()>0.20:\n",
    "        print(var, data[var].unique())"
   ]
  },
  {
   "cell_type": "markdown",
   "metadata": {},
   "source": [
    "The ones with more than 20% of missing data are categorical and discrete variables."
   ]
  },
  {
   "cell_type": "code",
   "execution_count": 165,
   "metadata": {},
   "outputs": [],
   "source": [
    "# for discrete and categorical variables impute the mode\n",
    "for col in discrete:\n",
    "    data.loc[data[col].isnull() > 0, col] = data[col].mode().to_numpy()\n",
    "    \n",
    "for col in categorical:\n",
    "    data.loc[data[col].isnull() > 0, col] = data[col].mode().to_numpy()"
   ]
  },
  {
   "cell_type": "code",
   "execution_count": 166,
   "metadata": {},
   "outputs": [],
   "source": [
    "# first we make a list of continuous variables (from the numerical ones)\n",
    "continuous = [var for var in numerical if var not in discrete and var not in ['customer_id', 'churn']]\n",
    "\n",
    "# for continuous variables impute the mean\n",
    "for col in continuous:\n",
    "    data.loc[data[col].isnull() > 0, col] = data[col].mean()"
   ]
  },
  {
   "cell_type": "code",
   "execution_count": 167,
   "metadata": {},
   "outputs": [
    {
     "name": "stdout",
     "output_type": "stream",
     "text": [
      "<class 'pandas.core.frame.DataFrame'>\n",
      "RangeIndex: 100000 entries, 0 to 99999\n",
      "Data columns (total 64 columns):\n",
      "rev_mean            100000 non-null float64\n",
      "mou_mean            100000 non-null float64\n",
      "totmrc_mean         100000 non-null float64\n",
      "da_mean             100000 non-null float64\n",
      "ovrmou_mean         100000 non-null float64\n",
      "datovr_mean         100000 non-null float64\n",
      "roam_mean           100000 non-null float64\n",
      "change_mou          100000 non-null float64\n",
      "change_rev          100000 non-null float64\n",
      "drop_vce_mean       100000 non-null float64\n",
      "drop_dat_mean       100000 non-null float64\n",
      "blck_vce_mean       100000 non-null float64\n",
      "blck_dat_mean       100000 non-null float64\n",
      "unan_vce_mean       100000 non-null float64\n",
      "unan_dat_mean       100000 non-null float64\n",
      "plcd_dat_mean       100000 non-null float64\n",
      "recv_vce_mean       100000 non-null float64\n",
      "recv_sms_mean       100000 non-null float64\n",
      "custcare_mean       100000 non-null float64\n",
      "threeway_mean       100000 non-null float64\n",
      "mou_cdat_mean       100000 non-null float64\n",
      "iwylis_vce_mean     100000 non-null float64\n",
      "mouiwylisv_mean     100000 non-null float64\n",
      "mou_pead_mean       100000 non-null float64\n",
      "callfwdv_mean       100000 non-null float64\n",
      "callwait_mean       100000 non-null float64\n",
      "churn               100000 non-null int64\n",
      "months              100000 non-null float64\n",
      "uniqsubs            100000 non-null int64\n",
      "actvsubs            100000 non-null int64\n",
      "new_cell            100000 non-null object\n",
      "crclscod            100000 non-null object\n",
      "asl_flag            100000 non-null object\n",
      "totcalls            100000 non-null float64\n",
      "avgrev              100000 non-null float64\n",
      "prizm_social_one    100000 non-null object\n",
      "area                100000 non-null object\n",
      "dualband            100000 non-null object\n",
      "refurb_new          100000 non-null object\n",
      "hnd_price           100000 non-null float64\n",
      "phones              100000 non-null float64\n",
      "hnd_webcap          100000 non-null object\n",
      "truck               100000 non-null int64\n",
      "rv                  100000 non-null int64\n",
      "ownrent             100000 non-null object\n",
      "lor                 100000 non-null float64\n",
      "dwlltype            100000 non-null object\n",
      "marital             100000 non-null object\n",
      "adults              100000 non-null float64\n",
      "infobase            100000 non-null object\n",
      "income              100000 non-null float64\n",
      "numbcars            100000 non-null float64\n",
      "hhstatin            100000 non-null object\n",
      "dwllsize            100000 non-null object\n",
      "forgntvl            100000 non-null int64\n",
      "ethnic              100000 non-null object\n",
      "kid0_2              100000 non-null object\n",
      "kid3_5              100000 non-null object\n",
      "kid6_10             100000 non-null object\n",
      "kid11_15            100000 non-null object\n",
      "kid16_17            100000 non-null object\n",
      "creditcd            100000 non-null object\n",
      "eqpdays             100000 non-null float64\n",
      "customer_id         100000 non-null int64\n",
      "dtypes: float64(36), int64(7), object(21)\n",
      "memory usage: 48.8+ MB\n"
     ]
    }
   ],
   "source": [
    "# checking for missing values\n",
    "data.info()"
   ]
  },
  {
   "cell_type": "markdown",
   "metadata": {},
   "source": [
    "#### Encoding"
   ]
  },
  {
   "cell_type": "code",
   "execution_count": 168,
   "metadata": {},
   "outputs": [],
   "source": [
    "# binary columns with 2 values\n",
    "bin_cols = data.drop(['churn', 'customer_id'], axis=1).nunique()[data.nunique() == 2].keys().tolist()\n",
    "# columns with more than 2 values\n",
    "multi_cols = [i for i in categorical if i not in bin_cols]"
   ]
  },
  {
   "cell_type": "code",
   "execution_count": 169,
   "metadata": {},
   "outputs": [
    {
     "data": {
      "text/plain": [
       "(100000, 185)"
      ]
     },
     "execution_count": 169,
     "metadata": {},
     "output_type": "execute_result"
    }
   ],
   "source": [
    "# label encoding Binary columns\n",
    "le = LabelEncoder()\n",
    "for i in bin_cols:\n",
    "    data[i] = le.fit_transform(data[i])\n",
    "    \n",
    "# one hot encoding categorical variables with more than 2 values\n",
    "data = pd.get_dummies(data=data,columns=multi_cols)\n",
    "data.shape"
   ]
  },
  {
   "cell_type": "markdown",
   "metadata": {},
   "source": [
    "#### Standarization"
   ]
  },
  {
   "cell_type": "code",
   "execution_count": 170,
   "metadata": {},
   "outputs": [],
   "source": [
    "# scaling numerical columns\n",
    "scaler = StandardScaler()\n",
    "scaled = scaler.fit_transform(data[numerical].astype(np.float))\n",
    "scaled = pd.DataFrame(scaled,columns=numerical)"
   ]
  },
  {
   "cell_type": "code",
   "execution_count": 171,
   "metadata": {},
   "outputs": [
    {
     "data": {
      "text/plain": [
       "(100000, 185)"
      ]
     },
     "execution_count": 171,
     "metadata": {},
     "output_type": "execute_result"
    }
   ],
   "source": [
    "# dropping original values merging scaled values for numerical columns\n",
    "data_og = data.copy()\n",
    "data = data.drop(columns=numerical,axis = 1)\n",
    "data = data.merge(scaled,left_index=True,right_index=True,how =\"left\")\n",
    "data.shape"
   ]
  },
  {
   "cell_type": "markdown",
   "metadata": {},
   "source": [
    "# 3. Building a Predicitive Model"
   ]
  },
  {
   "cell_type": "code",
   "execution_count": 172,
   "metadata": {},
   "outputs": [],
   "source": [
    "# create X and y\n",
    "X = data.drop(['churn', 'customer_id'], axis=1)\n",
    "y = data['churn'].values\n",
    "\n",
    "# split dataframe into training and test set\n",
    "X_train, X_test, y_train, y_test = train_test_split(X, y, test_size=0.3, random_state=42)"
   ]
  },
  {
   "cell_type": "markdown",
   "metadata": {},
   "source": [
    "Three different models were train to predict customer churn:\n",
    "\n",
    "- Logistic Regression\n",
    "- Random Forest Classifier\n",
    "- XGBoost"
   ]
  },
  {
   "cell_type": "markdown",
   "metadata": {},
   "source": [
    "#### 3.1. Logistic Regression"
   ]
  },
  {
   "cell_type": "code",
   "execution_count": 194,
   "metadata": {},
   "outputs": [
    {
     "name": "stdout",
     "output_type": "stream",
     "text": [
      "              precision    recall  f1-score   support\n",
      "\n",
      "           0       0.59      0.59      0.59     15118\n",
      "           1       0.58      0.59      0.58     14882\n",
      "\n",
      "   micro avg       0.59      0.59      0.59     30000\n",
      "   macro avg       0.59      0.59      0.59     30000\n",
      "weighted avg       0.59      0.59      0.59     30000\n",
      "\n"
     ]
    }
   ],
   "source": [
    "log_reg = LogisticRegression(solver='liblinear')\n",
    "log_reg.fit(X_train, y_train)\n",
    "y_pred = log_reg.predict(X_test)\n",
    "print(metrics.classification_report(y_pred, y_test))"
   ]
  },
  {
   "cell_type": "markdown",
   "metadata": {},
   "source": [
    "#### 3.2. Random Forest Classifier"
   ]
  },
  {
   "cell_type": "code",
   "execution_count": 195,
   "metadata": {},
   "outputs": [
    {
     "name": "stdout",
     "output_type": "stream",
     "text": [
      "              precision    recall  f1-score   support\n",
      "\n",
      "           0       0.62      0.62      0.62     15192\n",
      "           1       0.61      0.62      0.61     14808\n",
      "\n",
      "   micro avg       0.62      0.62      0.62     30000\n",
      "   macro avg       0.62      0.62      0.62     30000\n",
      "weighted avg       0.62      0.62      0.62     30000\n",
      "\n"
     ]
    }
   ],
   "source": [
    "clf = RandomForestClassifier(n_estimators=100, n_jobs=-1)\n",
    "clf.fit(X_train, y_train)\n",
    "y_pred = clf.predict(X_test)\n",
    "print(metrics.classification_report(y_pred, y_test))"
   ]
  },
  {
   "cell_type": "markdown",
   "metadata": {},
   "source": [
    "#### 3.3. XGBoost"
   ]
  },
  {
   "cell_type": "code",
   "execution_count": 198,
   "metadata": {},
   "outputs": [
    {
     "data": {
      "text/plain": [
       "0.6348333333333334"
      ]
     },
     "execution_count": 198,
     "metadata": {},
     "output_type": "execute_result"
    }
   ],
   "source": [
    "import xgboost as xgb\n",
    "\n",
    "xgb_model = xgb.XGBClassifier(n_estimators=236, objective=\"binary:logistic\", random_state=42)\n",
    "xgb_model.fit(X_train, y_train)\n",
    "y_pred = xgb_model.predict(X_test)"
   ]
  },
  {
   "cell_type": "code",
   "execution_count": 199,
   "metadata": {},
   "outputs": [
    {
     "name": "stdout",
     "output_type": "stream",
     "text": [
      "              precision    recall  f1-score   support\n",
      "\n",
      "           0       0.63      0.64      0.63     14766\n",
      "           1       0.64      0.63      0.64     15234\n",
      "\n",
      "   micro avg       0.63      0.63      0.63     30000\n",
      "   macro avg       0.63      0.63      0.63     30000\n",
      "weighted avg       0.63      0.63      0.63     30000\n",
      "\n"
     ]
    }
   ],
   "source": [
    "print(metrics.classification_report(y_pred, y_test))"
   ]
  },
  {
   "cell_type": "markdown",
   "metadata": {},
   "source": [
    "The best performance is achieved by XGBoost, with 0.63 accuracy score."
   ]
  },
  {
   "cell_type": "markdown",
   "metadata": {},
   "source": [
    "# 4. Dimensionality Reduction"
   ]
  },
  {
   "cell_type": "code",
   "execution_count": 200,
   "metadata": {},
   "outputs": [
    {
     "data": {
      "text/plain": [
       "Pipeline(memory=None,\n",
       "     steps=[('pca', PCA(copy=True, iterated_power='auto', n_components=0.95, random_state=None,\n",
       "  svd_solver='auto', tol=0.0, whiten=False)), ('rfclf', RandomForestClassifier(bootstrap=True, class_weight=None, criterion='gini',\n",
       "            max_depth=None, max_features='auto', max_leaf_nodes=None,\n",
       "       ..._jobs=-1,\n",
       "            oob_score=False, random_state=None, verbose=0,\n",
       "            warm_start=False))])"
      ]
     },
     "execution_count": 200,
     "metadata": {},
     "output_type": "execute_result"
    }
   ],
   "source": [
    "from sklearn.pipeline import Pipeline\n",
    "from sklearn.decomposition import PCA\n",
    "\n",
    "pipeline = Pipeline([\n",
    "    (\"pca\", PCA(n_components=0.95)),\n",
    "    (\"rfclf\", RandomForestClassifier(n_estimators=100, n_jobs=-1))\n",
    ",\n",
    "])\n",
    "pipeline.fit(X_train, y_train)"
   ]
  },
  {
   "cell_type": "code",
   "execution_count": 201,
   "metadata": {},
   "outputs": [
    {
     "data": {
      "text/plain": [
       "0.5817666666666667"
      ]
     },
     "execution_count": 201,
     "metadata": {},
     "output_type": "execute_result"
    }
   ],
   "source": [
    "pipeline.score(X_test, y_test)"
   ]
  },
  {
   "cell_type": "markdown",
   "metadata": {},
   "source": [
    "The model does not improve its performance, even after applying dimensionality reduction with 95% of the variance explained."
   ]
  }
 ],
 "metadata": {
  "kernelspec": {
   "display_name": "Python 3",
   "language": "python",
   "name": "python3"
  },
  "language_info": {
   "codemirror_mode": {
    "name": "ipython",
    "version": 3
   },
   "file_extension": ".py",
   "mimetype": "text/x-python",
   "name": "python",
   "nbconvert_exporter": "python",
   "pygments_lexer": "ipython3",
   "version": "3.6.8"
  }
 },
 "nbformat": 4,
 "nbformat_minor": 2
}
