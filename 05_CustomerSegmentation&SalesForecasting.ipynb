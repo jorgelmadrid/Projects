{
 "cells": [
  {
   "cell_type": "markdown",
   "metadata": {},
   "source": [
    "# Customer Segmentation and Sales Forecasting"
   ]
  },
  {
   "cell_type": "markdown",
   "metadata": {},
   "source": [
    "## Methodology\n",
    "\n",
    "<img src='https://github.com/jorgelmadrid/Projects/raw/master/images/methodology.png' width='90%' />"
   ]
  },
  {
   "cell_type": "markdown",
   "metadata": {},
   "source": [
    "### 1. Getting the data"
   ]
  },
  {
   "cell_type": "code",
   "execution_count": 1,
   "metadata": {},
   "outputs": [],
   "source": [
    "import pandas as pd\n",
    "import numpy as np\n",
    "import matplotlib.pyplot as plt \n",
    "import seaborn as sns\n",
    "import datetime as dt\n",
    "from sklearn.model_selection import train_test_split, cross_val_score\n",
    "from sklearn.preprocessing import StandardScaler\n",
    "from sklearn.ensemble import RandomForestRegressor\n",
    "from sklearn.tree import DecisionTreeRegressor\n",
    "from sklearn.linear_model import LinearRegression\n",
    "from sklearn.metrics import mean_squared_error\n",
    "import warnings\n",
    "warnings.filterwarnings(\"ignore\")"
   ]
  },
  {
   "cell_type": "code",
   "execution_count": 2,
   "metadata": {},
   "outputs": [],
   "source": [
    "def clean_columns(df):\n",
    "    df.columns = df.columns.str.lower().str.replace(' ', '_') # lower case column names\n",
    "    df.rename(columns={'año':'anho'}, inplace=True) # replace odd characters\n",
    "    df['date'] = pd.to_datetime(df['anho'].astype(str).str.cat(df[['mes', 'dia']].astype(str), sep='-')) # create a datetime column for plotting\n",
    "    return df"
   ]
  },
  {
   "cell_type": "code",
   "execution_count": 3,
   "metadata": {},
   "outputs": [
    {
     "data": {
      "text/html": [
       "<div>\n",
       "<style scoped>\n",
       "    .dataframe tbody tr th:only-of-type {\n",
       "        vertical-align: middle;\n",
       "    }\n",
       "\n",
       "    .dataframe tbody tr th {\n",
       "        vertical-align: top;\n",
       "    }\n",
       "\n",
       "    .dataframe thead th {\n",
       "        text-align: right;\n",
       "    }\n",
       "</style>\n",
       "<table border=\"1\" class=\"dataframe\">\n",
       "  <thead>\n",
       "    <tr style=\"text-align: right;\">\n",
       "      <th></th>\n",
       "      <th>transaccion_id</th>\n",
       "      <th>anho</th>\n",
       "      <th>mes</th>\n",
       "      <th>dia</th>\n",
       "      <th>vendedor_id</th>\n",
       "      <th>producto_id</th>\n",
       "      <th>num_serie</th>\n",
       "      <th>id_cliente</th>\n",
       "      <th>lista_precio</th>\n",
       "      <th>ventas</th>\n",
       "      <th>margen_bruto</th>\n",
       "      <th>date</th>\n",
       "    </tr>\n",
       "  </thead>\n",
       "  <tbody>\n",
       "    <tr>\n",
       "      <th>0</th>\n",
       "      <td>1001</td>\n",
       "      <td>2004</td>\n",
       "      <td>1</td>\n",
       "      <td>3</td>\n",
       "      <td>2002</td>\n",
       "      <td>1000</td>\n",
       "      <td>11001</td>\n",
       "      <td>1176</td>\n",
       "      <td>1199</td>\n",
       "      <td>930</td>\n",
       "      <td>456</td>\n",
       "      <td>2004-01-03</td>\n",
       "    </tr>\n",
       "    <tr>\n",
       "      <th>1</th>\n",
       "      <td>1001</td>\n",
       "      <td>2004</td>\n",
       "      <td>2</td>\n",
       "      <td>6</td>\n",
       "      <td>2002</td>\n",
       "      <td>1000</td>\n",
       "      <td>11001</td>\n",
       "      <td>1160</td>\n",
       "      <td>1299</td>\n",
       "      <td>1250</td>\n",
       "      <td>700</td>\n",
       "      <td>2004-02-06</td>\n",
       "    </tr>\n",
       "    <tr>\n",
       "      <th>2</th>\n",
       "      <td>1001</td>\n",
       "      <td>2004</td>\n",
       "      <td>3</td>\n",
       "      <td>15</td>\n",
       "      <td>2002</td>\n",
       "      <td>1000</td>\n",
       "      <td>11001</td>\n",
       "      <td>1160</td>\n",
       "      <td>999</td>\n",
       "      <td>690</td>\n",
       "      <td>262</td>\n",
       "      <td>2004-03-15</td>\n",
       "    </tr>\n",
       "    <tr>\n",
       "      <th>3</th>\n",
       "      <td>1001</td>\n",
       "      <td>2004</td>\n",
       "      <td>4</td>\n",
       "      <td>16</td>\n",
       "      <td>2002</td>\n",
       "      <td>1000</td>\n",
       "      <td>11001</td>\n",
       "      <td>1160</td>\n",
       "      <td>999</td>\n",
       "      <td>690</td>\n",
       "      <td>262</td>\n",
       "      <td>2004-04-16</td>\n",
       "    </tr>\n",
       "    <tr>\n",
       "      <th>4</th>\n",
       "      <td>1002</td>\n",
       "      <td>2004</td>\n",
       "      <td>5</td>\n",
       "      <td>26</td>\n",
       "      <td>2011</td>\n",
       "      <td>1000</td>\n",
       "      <td>11002</td>\n",
       "      <td>1099</td>\n",
       "      <td>999</td>\n",
       "      <td>999</td>\n",
       "      <td>380</td>\n",
       "      <td>2004-05-26</td>\n",
       "    </tr>\n",
       "  </tbody>\n",
       "</table>\n",
       "</div>"
      ],
      "text/plain": [
       "   transaccion_id  anho  mes  dia  vendedor_id  producto_id  num_serie  \\\n",
       "0            1001  2004    1    3         2002         1000      11001   \n",
       "1            1001  2004    2    6         2002         1000      11001   \n",
       "2            1001  2004    3   15         2002         1000      11001   \n",
       "3            1001  2004    4   16         2002         1000      11001   \n",
       "4            1002  2004    5   26         2011         1000      11002   \n",
       "\n",
       "   id_cliente  lista_precio  ventas  margen_bruto       date  \n",
       "0        1176          1199     930           456 2004-01-03  \n",
       "1        1160          1299    1250           700 2004-02-06  \n",
       "2        1160           999     690           262 2004-03-15  \n",
       "3        1160           999     690           262 2004-04-16  \n",
       "4        1099           999     999           380 2004-05-26  "
      ]
     },
     "execution_count": 3,
     "metadata": {},
     "output_type": "execute_result"
    }
   ],
   "source": [
    "# read in the data\n",
    "data = pd.read_excel('Ejercicio.xls')\n",
    "clean_columns(data)\n",
    "data.head()"
   ]
  },
  {
   "cell_type": "markdown",
   "metadata": {},
   "source": [
    "### 2. Exploratory Data Analysis"
   ]
  },
  {
   "cell_type": "code",
   "execution_count": 4,
   "metadata": {},
   "outputs": [
    {
     "data": {
      "text/plain": [
       "transaccion_id    0\n",
       "anho              0\n",
       "mes               0\n",
       "dia               0\n",
       "vendedor_id       0\n",
       "producto_id       0\n",
       "num_serie         0\n",
       "id_cliente        0\n",
       "lista_precio      0\n",
       "ventas            0\n",
       "margen_bruto      0\n",
       "date              0\n",
       "dtype: int64"
      ]
     },
     "execution_count": 4,
     "metadata": {},
     "output_type": "execute_result"
    }
   ],
   "source": [
    "# checking for missing values\n",
    "data.isnull().sum()"
   ]
  },
  {
   "cell_type": "code",
   "execution_count": 5,
   "metadata": {},
   "outputs": [
    {
     "data": {
      "text/html": [
       "<div>\n",
       "<style scoped>\n",
       "    .dataframe tbody tr th:only-of-type {\n",
       "        vertical-align: middle;\n",
       "    }\n",
       "\n",
       "    .dataframe tbody tr th {\n",
       "        vertical-align: top;\n",
       "    }\n",
       "\n",
       "    .dataframe thead th {\n",
       "        text-align: right;\n",
       "    }\n",
       "</style>\n",
       "<table border=\"1\" class=\"dataframe\">\n",
       "  <thead>\n",
       "    <tr style=\"text-align: right;\">\n",
       "      <th></th>\n",
       "      <th>transaccion_id</th>\n",
       "      <th>anho</th>\n",
       "      <th>mes</th>\n",
       "      <th>dia</th>\n",
       "      <th>vendedor_id</th>\n",
       "      <th>producto_id</th>\n",
       "      <th>num_serie</th>\n",
       "      <th>id_cliente</th>\n",
       "      <th>lista_precio</th>\n",
       "      <th>ventas</th>\n",
       "      <th>margen_bruto</th>\n",
       "    </tr>\n",
       "  </thead>\n",
       "  <tbody>\n",
       "    <tr>\n",
       "      <th>count</th>\n",
       "      <td>718.000000</td>\n",
       "      <td>718.000000</td>\n",
       "      <td>718.000000</td>\n",
       "      <td>718.000000</td>\n",
       "      <td>718.000000</td>\n",
       "      <td>718.000000</td>\n",
       "      <td>718.000000</td>\n",
       "      <td>718.000000</td>\n",
       "      <td>718.000000</td>\n",
       "      <td>718.000000</td>\n",
       "      <td>718.000000</td>\n",
       "    </tr>\n",
       "    <tr>\n",
       "      <th>mean</th>\n",
       "      <td>1246.247911</td>\n",
       "      <td>2008.479109</td>\n",
       "      <td>6.756267</td>\n",
       "      <td>16.154596</td>\n",
       "      <td>2016.837047</td>\n",
       "      <td>3164.345404</td>\n",
       "      <td>13459.327298</td>\n",
       "      <td>1095.955432</td>\n",
       "      <td>3895.935933</td>\n",
       "      <td>3233.789694</td>\n",
       "      <td>1464.025070</td>\n",
       "    </tr>\n",
       "    <tr>\n",
       "      <th>std</th>\n",
       "      <td>137.353822</td>\n",
       "      <td>1.813934</td>\n",
       "      <td>3.541810</td>\n",
       "      <td>8.706579</td>\n",
       "      <td>10.182158</td>\n",
       "      <td>1439.920598</td>\n",
       "      <td>1702.632090</td>\n",
       "      <td>49.350687</td>\n",
       "      <td>1926.165430</td>\n",
       "      <td>1573.374063</td>\n",
       "      <td>668.078793</td>\n",
       "    </tr>\n",
       "    <tr>\n",
       "      <th>min</th>\n",
       "      <td>1001.000000</td>\n",
       "      <td>2004.000000</td>\n",
       "      <td>1.000000</td>\n",
       "      <td>1.000000</td>\n",
       "      <td>2001.000000</td>\n",
       "      <td>1000.000000</td>\n",
       "      <td>11001.000000</td>\n",
       "      <td>1001.000000</td>\n",
       "      <td>23.000000</td>\n",
       "      <td>690.000000</td>\n",
       "      <td>262.000000</td>\n",
       "    </tr>\n",
       "    <tr>\n",
       "      <th>25%</th>\n",
       "      <td>1129.000000</td>\n",
       "      <td>2007.000000</td>\n",
       "      <td>4.000000</td>\n",
       "      <td>9.000000</td>\n",
       "      <td>2007.000000</td>\n",
       "      <td>2000.000000</td>\n",
       "      <td>12044.250000</td>\n",
       "      <td>1057.250000</td>\n",
       "      <td>2199.000000</td>\n",
       "      <td>1891.750000</td>\n",
       "      <td>742.750000</td>\n",
       "    </tr>\n",
       "    <tr>\n",
       "      <th>50%</th>\n",
       "      <td>1245.500000</td>\n",
       "      <td>2009.000000</td>\n",
       "      <td>7.000000</td>\n",
       "      <td>17.000000</td>\n",
       "      <td>2017.000000</td>\n",
       "      <td>3000.000000</td>\n",
       "      <td>13119.500000</td>\n",
       "      <td>1099.000000</td>\n",
       "      <td>3299.000000</td>\n",
       "      <td>3190.000000</td>\n",
       "      <td>1499.000000</td>\n",
       "    </tr>\n",
       "    <tr>\n",
       "      <th>75%</th>\n",
       "      <td>1368.750000</td>\n",
       "      <td>2010.000000</td>\n",
       "      <td>10.000000</td>\n",
       "      <td>23.000000</td>\n",
       "      <td>2026.000000</td>\n",
       "      <td>4000.000000</td>\n",
       "      <td>15013.750000</td>\n",
       "      <td>1137.000000</td>\n",
       "      <td>5999.000000</td>\n",
       "      <td>4500.000000</td>\n",
       "      <td>2009.000000</td>\n",
       "    </tr>\n",
       "    <tr>\n",
       "      <th>max</th>\n",
       "      <td>1475.000000</td>\n",
       "      <td>2011.000000</td>\n",
       "      <td>12.000000</td>\n",
       "      <td>31.000000</td>\n",
       "      <td>2037.000000</td>\n",
       "      <td>5000.000000</td>\n",
       "      <td>16120.000000</td>\n",
       "      <td>1180.000000</td>\n",
       "      <td>6999.000000</td>\n",
       "      <td>6990.000000</td>\n",
       "      <td>2830.000000</td>\n",
       "    </tr>\n",
       "  </tbody>\n",
       "</table>\n",
       "</div>"
      ],
      "text/plain": [
       "       transaccion_id         anho         mes         dia  vendedor_id  \\\n",
       "count      718.000000   718.000000  718.000000  718.000000   718.000000   \n",
       "mean      1246.247911  2008.479109    6.756267   16.154596  2016.837047   \n",
       "std        137.353822     1.813934    3.541810    8.706579    10.182158   \n",
       "min       1001.000000  2004.000000    1.000000    1.000000  2001.000000   \n",
       "25%       1129.000000  2007.000000    4.000000    9.000000  2007.000000   \n",
       "50%       1245.500000  2009.000000    7.000000   17.000000  2017.000000   \n",
       "75%       1368.750000  2010.000000   10.000000   23.000000  2026.000000   \n",
       "max       1475.000000  2011.000000   12.000000   31.000000  2037.000000   \n",
       "\n",
       "       producto_id     num_serie   id_cliente  lista_precio       ventas  \\\n",
       "count   718.000000    718.000000   718.000000    718.000000   718.000000   \n",
       "mean   3164.345404  13459.327298  1095.955432   3895.935933  3233.789694   \n",
       "std    1439.920598   1702.632090    49.350687   1926.165430  1573.374063   \n",
       "min    1000.000000  11001.000000  1001.000000     23.000000   690.000000   \n",
       "25%    2000.000000  12044.250000  1057.250000   2199.000000  1891.750000   \n",
       "50%    3000.000000  13119.500000  1099.000000   3299.000000  3190.000000   \n",
       "75%    4000.000000  15013.750000  1137.000000   5999.000000  4500.000000   \n",
       "max    5000.000000  16120.000000  1180.000000   6999.000000  6990.000000   \n",
       "\n",
       "       margen_bruto  \n",
       "count    718.000000  \n",
       "mean    1464.025070  \n",
       "std      668.078793  \n",
       "min      262.000000  \n",
       "25%      742.750000  \n",
       "50%     1499.000000  \n",
       "75%     2009.000000  \n",
       "max     2830.000000  "
      ]
     },
     "execution_count": 5,
     "metadata": {},
     "output_type": "execute_result"
    }
   ],
   "source": [
    "# descriptive statistics for each variable\n",
    "data.describe()"
   ]
  },
  {
   "cell_type": "code",
   "execution_count": 6,
   "metadata": {},
   "outputs": [
    {
     "data": {
      "image/png": "[encoded data removed]",
      "text/plain": [
       "<Figure size 720x360 with 1 Axes>"
      ]
     },
     "metadata": {
      "needs_background": "light"
     },
     "output_type": "display_data"
    }
   ],
   "source": [
    "# gross margin 2004-2012\n",
    "data.plot(kind='line', x='date', y='margen_bruto', alpha=0.5, figsize=(10,5), title='Margen Bruto 2004-2012')\n",
    "plt.ylabel('margen_bruto')\n",
    "plt.show()"
   ]
  },
  {
   "cell_type": "code",
   "execution_count": 7,
   "metadata": {},
   "outputs": [
    {
     "data": {
      "image/png": "[encoded data removed]",
      "text/plain": [
       "<Figure size 720x360 with 1 Axes>"
      ]
     },
     "metadata": {
      "needs_background": "light"
     },
     "output_type": "display_data"
    }
   ],
   "source": [
    "# sales 2004-2012\n",
    "data.plot(kind='line', x='date', y='ventas', alpha=0.5, figsize=(10,5), title='Ventas 2004-2012')\n",
    "plt.ylabel('ventas')\n",
    "plt.show()"
   ]
  },
  {
   "cell_type": "code",
   "execution_count": 8,
   "metadata": {},
   "outputs": [
    {
     "data": {
      "image/png": "[encoded data removed]",
      "text/plain": [
       "<Figure size 432x288 with 1 Axes>"
      ]
     },
     "metadata": {
      "needs_background": "light"
     },
     "output_type": "display_data"
    }
   ],
   "source": [
    "# top 10 costumers by gross margin\n",
    "data.groupby('id_cliente')['margen_bruto'].sum().sort_values(ascending=False)[:10].plot(kind='barh')\n",
    "plt.xlabel('ventas')\n",
    "plt.show()"
   ]
  },
  {
   "cell_type": "code",
   "execution_count": 9,
   "metadata": {},
   "outputs": [
    {
     "data": {
      "image/png": "[encoded data removed]",
      "text/plain": [
       "<Figure size 432x288 with 1 Axes>"
      ]
     },
     "metadata": {
      "needs_background": "light"
     },
     "output_type": "display_data"
    }
   ],
   "source": [
    "# top 10 costumers by sales\n",
    "data.groupby('id_cliente')['ventas'].sum().sort_values(ascending=False)[:10].plot(kind='barh')\n",
    "plt.xlabel('ventas')\n",
    "plt.show()"
   ]
  },
  {
   "cell_type": "code",
   "execution_count": 10,
   "metadata": {},
   "outputs": [
    {
     "data": {
      "text/plain": [
       "ventas            1.000000\n",
       "lista_precio      0.972523\n",
       "producto_id       0.956487\n",
       "num_serie         0.947991\n",
       "margen_bruto      0.927715\n",
       "transaccion_id    0.914796\n",
       "anho              0.913734\n",
       "dia               0.046889\n",
       "mes              -0.062257\n",
       "id_cliente       -0.067456\n",
       "vendedor_id      -0.091156\n",
       "Name: ventas, dtype: float64"
      ]
     },
     "execution_count": 10,
     "metadata": {},
     "output_type": "execute_result"
    }
   ],
   "source": [
    "# checking for correlation\n",
    "corr_matrix = data.corr()\n",
    "corr_matrix[\"ventas\"].sort_values(ascending=False)"
   ]
  },
  {
   "cell_type": "code",
   "execution_count": 11,
   "metadata": {},
   "outputs": [
    {
     "data": {
      "image/png": "[encoded data removed]",
      "text/plain": [
       "<Figure size 720x576 with 9 Axes>"
      ]
     },
     "metadata": {
      "needs_background": "light"
     },
     "output_type": "display_data"
    }
   ],
   "source": [
    "# checking for correlation\n",
    "from pandas.plotting import scatter_matrix\n",
    "attributes = ['lista_precio', 'ventas', 'margen_bruto']\n",
    "scatter_matrix(data[attributes], figsize=(10, 8))\n",
    "plt.show()"
   ]
  },
  {
   "cell_type": "code",
   "execution_count": 12,
   "metadata": {},
   "outputs": [
    {
     "name": "stdout",
     "output_type": "stream",
     "text": [
      "Number of unique transactions:  473\n",
      "Number of unique customers:  157\n",
      "Number of unique products:  5\n",
      "Number of unique serial number:  653\n",
      "Number of unique vendors:  37\n"
     ]
    }
   ],
   "source": [
    "print('Number of unique transactions: ', data['transaccion_id'].nunique())\n",
    "print('Number of unique customers: ', data['id_cliente'].nunique())\n",
    "print('Number of unique products: ', data['producto_id'].nunique())\n",
    "print('Number of unique serial number: ', data['num_serie'].nunique())\n",
    "print('Number of unique vendors: ', data['vendedor_id'].nunique())"
   ]
  },
  {
   "cell_type": "markdown",
   "metadata": {},
   "source": [
    "### 3. RFM Model"
   ]
  },
  {
   "cell_type": "markdown",
   "metadata": {},
   "source": [
    "**RFM** (Recency, Frequency, Monetary) Model is a behavior-based approach grouping customers into segments, using past purchase behavior to divide customers into groups. RFM helps divide customers into various categories or clusters to identify customers who are more likely to respond to promotions and also for future personalization services.\n",
    "\n",
    "- Recency (R): Who have purchased recently? Number of days since last purchase.\n",
    "- Frequency (F): Who has purchased frequently? It means the total number of purchases.\n",
    "- Monetary Value (M): Who have high purchase amount? It means the total money customer spent."
   ]
  },
  {
   "cell_type": "code",
   "execution_count": 13,
   "metadata": {},
   "outputs": [
    {
     "data": {
      "text/plain": [
       "(Timestamp('2004-01-03 00:00:00'), Timestamp('2011-12-31 00:00:00'))"
      ]
     },
     "execution_count": 13,
     "metadata": {},
     "output_type": "execute_result"
    }
   ],
   "source": [
    "# first and last purchase\n",
    "data['date'].min(),data['date'].max()"
   ]
  },
  {
   "cell_type": "code",
   "execution_count": 14,
   "metadata": {},
   "outputs": [
    {
     "name": "stdout",
     "output_type": "stream",
     "text": [
      "2012-01-01 00:00:00\n"
     ]
    }
   ],
   "source": [
    "# date reference to calculate recency\n",
    "now = dt.datetime(2012,1,1)\n",
    "print(now)"
   ]
  },
  {
   "cell_type": "code",
   "execution_count": 15,
   "metadata": {},
   "outputs": [
    {
     "data": {
      "text/html": [
       "<div>\n",
       "<style scoped>\n",
       "    .dataframe tbody tr th:only-of-type {\n",
       "        vertical-align: middle;\n",
       "    }\n",
       "\n",
       "    .dataframe tbody tr th {\n",
       "        vertical-align: top;\n",
       "    }\n",
       "\n",
       "    .dataframe thead th {\n",
       "        text-align: right;\n",
       "    }\n",
       "</style>\n",
       "<table border=\"1\" class=\"dataframe\">\n",
       "  <thead>\n",
       "    <tr style=\"text-align: right;\">\n",
       "      <th></th>\n",
       "      <th>recency</th>\n",
       "      <th>frequency</th>\n",
       "      <th>monetary</th>\n",
       "    </tr>\n",
       "    <tr>\n",
       "      <th>id_cliente</th>\n",
       "      <th></th>\n",
       "      <th></th>\n",
       "      <th></th>\n",
       "    </tr>\n",
       "  </thead>\n",
       "  <tbody>\n",
       "    <tr>\n",
       "      <th>1001</th>\n",
       "      <td>823</td>\n",
       "      <td>1</td>\n",
       "      <td>1617</td>\n",
       "    </tr>\n",
       "    <tr>\n",
       "      <th>1002</th>\n",
       "      <td>1225</td>\n",
       "      <td>1</td>\n",
       "      <td>1128</td>\n",
       "    </tr>\n",
       "    <tr>\n",
       "      <th>1003</th>\n",
       "      <td>1692</td>\n",
       "      <td>1</td>\n",
       "      <td>774</td>\n",
       "    </tr>\n",
       "    <tr>\n",
       "      <th>1004</th>\n",
       "      <td>844</td>\n",
       "      <td>1</td>\n",
       "      <td>1563</td>\n",
       "    </tr>\n",
       "    <tr>\n",
       "      <th>1005</th>\n",
       "      <td>746</td>\n",
       "      <td>2</td>\n",
       "      <td>2800</td>\n",
       "    </tr>\n",
       "  </tbody>\n",
       "</table>\n",
       "</div>"
      ],
      "text/plain": [
       "            recency  frequency  monetary\n",
       "id_cliente                              \n",
       "1001            823          1      1617\n",
       "1002           1225          1      1128\n",
       "1003           1692          1       774\n",
       "1004            844          1      1563\n",
       "1005            746          2      2800"
      ]
     },
     "execution_count": 15,
     "metadata": {},
     "output_type": "execute_result"
    }
   ],
   "source": [
    "# calculating recency, frequency and monetary\n",
    "rfm = data.groupby('id_cliente').agg({'date': lambda date:(now - date.max()).days,\n",
    "                                     'transaccion_id': lambda num: len(num),\n",
    "                                    'margen_bruto': lambda num: num.sum()})\n",
    "\n",
    "rfm.columns = ['recency', 'frequency', 'monetary']\n",
    "rfm.head()"
   ]
  },
  {
   "cell_type": "markdown",
   "metadata": {},
   "source": [
    "The simplest way to create customers segments from RFM Model is to use **Quartiles**. We assign a score from 1 to 4 to Recency, Frequency and Monetary. Four is the best/highest value, and one is the lowest/worst value. A final RFM score is calculated simply by combining individual RFM score numbers."
   ]
  },
  {
   "cell_type": "code",
   "execution_count": 16,
   "metadata": {},
   "outputs": [
    {
     "data": {
      "text/html": [
       "<div>\n",
       "<style scoped>\n",
       "    .dataframe tbody tr th:only-of-type {\n",
       "        vertical-align: middle;\n",
       "    }\n",
       "\n",
       "    .dataframe tbody tr th {\n",
       "        vertical-align: top;\n",
       "    }\n",
       "\n",
       "    .dataframe thead th {\n",
       "        text-align: right;\n",
       "    }\n",
       "</style>\n",
       "<table border=\"1\" class=\"dataframe\">\n",
       "  <thead>\n",
       "    <tr style=\"text-align: right;\">\n",
       "      <th></th>\n",
       "      <th>recency</th>\n",
       "      <th>frequency</th>\n",
       "      <th>monetary</th>\n",
       "      <th>r_quartile</th>\n",
       "      <th>f_quartile</th>\n",
       "      <th>m_quartile</th>\n",
       "    </tr>\n",
       "    <tr>\n",
       "      <th>id_cliente</th>\n",
       "      <th></th>\n",
       "      <th></th>\n",
       "      <th></th>\n",
       "      <th></th>\n",
       "      <th></th>\n",
       "      <th></th>\n",
       "    </tr>\n",
       "  </thead>\n",
       "  <tbody>\n",
       "    <tr>\n",
       "      <th>1001</th>\n",
       "      <td>823</td>\n",
       "      <td>1</td>\n",
       "      <td>1617</td>\n",
       "      <td>3</td>\n",
       "      <td>1</td>\n",
       "      <td>1</td>\n",
       "    </tr>\n",
       "    <tr>\n",
       "      <th>1002</th>\n",
       "      <td>1225</td>\n",
       "      <td>1</td>\n",
       "      <td>1128</td>\n",
       "      <td>2</td>\n",
       "      <td>1</td>\n",
       "      <td>1</td>\n",
       "    </tr>\n",
       "    <tr>\n",
       "      <th>1003</th>\n",
       "      <td>1692</td>\n",
       "      <td>1</td>\n",
       "      <td>774</td>\n",
       "      <td>1</td>\n",
       "      <td>1</td>\n",
       "      <td>1</td>\n",
       "    </tr>\n",
       "    <tr>\n",
       "      <th>1004</th>\n",
       "      <td>844</td>\n",
       "      <td>1</td>\n",
       "      <td>1563</td>\n",
       "      <td>3</td>\n",
       "      <td>1</td>\n",
       "      <td>1</td>\n",
       "    </tr>\n",
       "    <tr>\n",
       "      <th>1005</th>\n",
       "      <td>746</td>\n",
       "      <td>2</td>\n",
       "      <td>2800</td>\n",
       "      <td>4</td>\n",
       "      <td>1</td>\n",
       "      <td>2</td>\n",
       "    </tr>\n",
       "  </tbody>\n",
       "</table>\n",
       "</div>"
      ],
      "text/plain": [
       "            recency  frequency  monetary r_quartile f_quartile m_quartile\n",
       "id_cliente                                                               \n",
       "1001            823          1      1617          3          1          1\n",
       "1002           1225          1      1128          2          1          1\n",
       "1003           1692          1       774          1          1          1\n",
       "1004            844          1      1563          3          1          1\n",
       "1005            746          2      2800          4          1          2"
      ]
     },
     "execution_count": 16,
     "metadata": {},
     "output_type": "execute_result"
    }
   ],
   "source": [
    "# calculating quartiles\n",
    "rfm['r_quartile'] = pd.qcut(rfm['recency'], 4, ['4', '3', '2', '1'])\n",
    "rfm['f_quartile'] = pd.qcut(rfm['frequency'], 4, ['1', '2', '3', '4'])\n",
    "rfm['m_quartile'] = pd.qcut(rfm['monetary'], 4, ['1', '2', '3', '4'])\n",
    "rfm.head()"
   ]
  },
  {
   "cell_type": "code",
   "execution_count": 17,
   "metadata": {},
   "outputs": [
    {
     "data": {
      "text/html": [
       "<div>\n",
       "<style scoped>\n",
       "    .dataframe tbody tr th:only-of-type {\n",
       "        vertical-align: middle;\n",
       "    }\n",
       "\n",
       "    .dataframe tbody tr th {\n",
       "        vertical-align: top;\n",
       "    }\n",
       "\n",
       "    .dataframe thead th {\n",
       "        text-align: right;\n",
       "    }\n",
       "</style>\n",
       "<table border=\"1\" class=\"dataframe\">\n",
       "  <thead>\n",
       "    <tr style=\"text-align: right;\">\n",
       "      <th></th>\n",
       "      <th>recency</th>\n",
       "      <th>frequency</th>\n",
       "      <th>monetary</th>\n",
       "      <th>r_quartile</th>\n",
       "      <th>f_quartile</th>\n",
       "      <th>m_quartile</th>\n",
       "      <th>rfm_score</th>\n",
       "    </tr>\n",
       "    <tr>\n",
       "      <th>id_cliente</th>\n",
       "      <th></th>\n",
       "      <th></th>\n",
       "      <th></th>\n",
       "      <th></th>\n",
       "      <th></th>\n",
       "      <th></th>\n",
       "      <th></th>\n",
       "    </tr>\n",
       "  </thead>\n",
       "  <tbody>\n",
       "    <tr>\n",
       "      <th>1001</th>\n",
       "      <td>823</td>\n",
       "      <td>1</td>\n",
       "      <td>1617</td>\n",
       "      <td>3</td>\n",
       "      <td>1</td>\n",
       "      <td>1</td>\n",
       "      <td>311</td>\n",
       "    </tr>\n",
       "    <tr>\n",
       "      <th>1002</th>\n",
       "      <td>1225</td>\n",
       "      <td>1</td>\n",
       "      <td>1128</td>\n",
       "      <td>2</td>\n",
       "      <td>1</td>\n",
       "      <td>1</td>\n",
       "      <td>211</td>\n",
       "    </tr>\n",
       "    <tr>\n",
       "      <th>1003</th>\n",
       "      <td>1692</td>\n",
       "      <td>1</td>\n",
       "      <td>774</td>\n",
       "      <td>1</td>\n",
       "      <td>1</td>\n",
       "      <td>1</td>\n",
       "      <td>111</td>\n",
       "    </tr>\n",
       "    <tr>\n",
       "      <th>1004</th>\n",
       "      <td>844</td>\n",
       "      <td>1</td>\n",
       "      <td>1563</td>\n",
       "      <td>3</td>\n",
       "      <td>1</td>\n",
       "      <td>1</td>\n",
       "      <td>311</td>\n",
       "    </tr>\n",
       "    <tr>\n",
       "      <th>1005</th>\n",
       "      <td>746</td>\n",
       "      <td>2</td>\n",
       "      <td>2800</td>\n",
       "      <td>4</td>\n",
       "      <td>1</td>\n",
       "      <td>2</td>\n",
       "      <td>412</td>\n",
       "    </tr>\n",
       "  </tbody>\n",
       "</table>\n",
       "</div>"
      ],
      "text/plain": [
       "            recency  frequency  monetary r_quartile f_quartile m_quartile  \\\n",
       "id_cliente                                                                  \n",
       "1001            823          1      1617          3          1          1   \n",
       "1002           1225          1      1128          2          1          1   \n",
       "1003           1692          1       774          1          1          1   \n",
       "1004            844          1      1563          3          1          1   \n",
       "1005            746          2      2800          4          1          2   \n",
       "\n",
       "           rfm_score  \n",
       "id_cliente            \n",
       "1001             311  \n",
       "1002             211  \n",
       "1003             111  \n",
       "1004             311  \n",
       "1005             412  "
      ]
     },
     "execution_count": 17,
     "metadata": {},
     "output_type": "execute_result"
    }
   ],
   "source": [
    "# creating rfm score\n",
    "rfm['rfm_score'] = rfm['r_quartile'].astype(str)+ rfm['f_quartile'].astype(str) + rfm['m_quartile'].astype(str)\n",
    "rfm.head()"
   ]
  },
  {
   "cell_type": "markdown",
   "metadata": {},
   "source": [
    "Best Recency score = 4: most recently purchase. Best Frequency score = 4: most quantity purchase. Best Monetary score = 4: spent the most"
   ]
  },
  {
   "cell_type": "code",
   "execution_count": 18,
   "metadata": {},
   "outputs": [
    {
     "data": {
      "text/html": [
       "<div>\n",
       "<style scoped>\n",
       "    .dataframe tbody tr th:only-of-type {\n",
       "        vertical-align: middle;\n",
       "    }\n",
       "\n",
       "    .dataframe tbody tr th {\n",
       "        vertical-align: top;\n",
       "    }\n",
       "\n",
       "    .dataframe thead th {\n",
       "        text-align: right;\n",
       "    }\n",
       "</style>\n",
       "<table border=\"1\" class=\"dataframe\">\n",
       "  <thead>\n",
       "    <tr style=\"text-align: right;\">\n",
       "      <th></th>\n",
       "      <th>recency</th>\n",
       "      <th>frequency</th>\n",
       "      <th>monetary</th>\n",
       "      <th>r_quartile</th>\n",
       "      <th>f_quartile</th>\n",
       "      <th>m_quartile</th>\n",
       "      <th>rfm_score</th>\n",
       "    </tr>\n",
       "    <tr>\n",
       "      <th>id_cliente</th>\n",
       "      <th></th>\n",
       "      <th></th>\n",
       "      <th></th>\n",
       "      <th></th>\n",
       "      <th></th>\n",
       "      <th></th>\n",
       "      <th></th>\n",
       "    </tr>\n",
       "  </thead>\n",
       "  <tbody>\n",
       "    <tr>\n",
       "      <th>1110</th>\n",
       "      <td>63</td>\n",
       "      <td>26</td>\n",
       "      <td>60047</td>\n",
       "      <td>4</td>\n",
       "      <td>4</td>\n",
       "      <td>4</td>\n",
       "      <td>444</td>\n",
       "    </tr>\n",
       "    <tr>\n",
       "      <th>1102</th>\n",
       "      <td>10</td>\n",
       "      <td>21</td>\n",
       "      <td>40826</td>\n",
       "      <td>4</td>\n",
       "      <td>4</td>\n",
       "      <td>4</td>\n",
       "      <td>444</td>\n",
       "    </tr>\n",
       "    <tr>\n",
       "      <th>1164</th>\n",
       "      <td>63</td>\n",
       "      <td>23</td>\n",
       "      <td>37819</td>\n",
       "      <td>4</td>\n",
       "      <td>4</td>\n",
       "      <td>4</td>\n",
       "      <td>444</td>\n",
       "    </tr>\n",
       "    <tr>\n",
       "      <th>1008</th>\n",
       "      <td>14</td>\n",
       "      <td>16</td>\n",
       "      <td>30688</td>\n",
       "      <td>4</td>\n",
       "      <td>4</td>\n",
       "      <td>4</td>\n",
       "      <td>444</td>\n",
       "    </tr>\n",
       "    <tr>\n",
       "      <th>1011</th>\n",
       "      <td>164</td>\n",
       "      <td>15</td>\n",
       "      <td>29799</td>\n",
       "      <td>4</td>\n",
       "      <td>4</td>\n",
       "      <td>4</td>\n",
       "      <td>444</td>\n",
       "    </tr>\n",
       "  </tbody>\n",
       "</table>\n",
       "</div>"
      ],
      "text/plain": [
       "            recency  frequency  monetary r_quartile f_quartile m_quartile  \\\n",
       "id_cliente                                                                  \n",
       "1110             63         26     60047          4          4          4   \n",
       "1102             10         21     40826          4          4          4   \n",
       "1164             63         23     37819          4          4          4   \n",
       "1008             14         16     30688          4          4          4   \n",
       "1011            164         15     29799          4          4          4   \n",
       "\n",
       "           rfm_score  \n",
       "id_cliente            \n",
       "1110             444  \n",
       "1102             444  \n",
       "1164             444  \n",
       "1008             444  \n",
       "1011             444  "
      ]
     },
     "execution_count": 18,
     "metadata": {},
     "output_type": "execute_result"
    }
   ],
   "source": [
    "# best customers in terms of rfm score\n",
    "rfm[rfm['rfm_score'] == '444'].sort_values('monetary', ascending=False).head()"
   ]
  },
  {
   "cell_type": "code",
   "execution_count": 19,
   "metadata": {},
   "outputs": [
    {
     "name": "stdout",
     "output_type": "stream",
     "text": [
      "Best Customers:  23\n",
      "Loyal Customers:  34\n",
      "Big Spenders:  39\n",
      "Almost Lost:  2\n",
      "Lost Best Customers:  5\n",
      "Lost Cheap Customers:  20\n"
     ]
    }
   ],
   "source": [
    "print(\"Best Customers: \",len(rfm[rfm['rfm_score']=='444']))\n",
    "print('Loyal Customers: ',len(rfm[rfm['f_quartile']=='4']))\n",
    "print(\"Big Spenders: \",len(rfm[rfm['m_quartile']=='4']))\n",
    "print('Almost Lost: ', len(rfm[rfm['rfm_score']=='244']))\n",
    "print('Lost Best Customers: ',len(rfm[(rfm['rfm_score']=='144') | (rfm['rfm_score']=='143') | (rfm['rfm_score']=='134') | (rfm['rfm_score']=='133')]))\n",
    "print('Lost Cheap Customers: ',len(rfm[rfm['rfm_score']=='111']))"
   ]
  },
  {
   "cell_type": "markdown",
   "metadata": {},
   "source": [
    "### 4. Predictive Model"
   ]
  },
  {
   "cell_type": "markdown",
   "metadata": {},
   "source": [
    "#### 4.1 Pre-Processing Data"
   ]
  },
  {
   "cell_type": "code",
   "execution_count": 20,
   "metadata": {},
   "outputs": [
    {
     "data": {
      "image/png": "[encoded data removed]",
      "text/plain": [
       "<Figure size 720x360 with 1 Axes>"
      ]
     },
     "metadata": {
      "needs_background": "light"
     },
     "output_type": "display_data"
    }
   ],
   "source": [
    "# we'll use data from 2007 to 2011\n",
    "df = data[data['anho'] >= 2007]\n",
    "df.plot(kind='line', x='date', y='ventas', alpha=0.5, figsize=(10,5))\n",
    "plt.show()"
   ]
  },
  {
   "cell_type": "code",
   "execution_count": 21,
   "metadata": {},
   "outputs": [],
   "source": [
    "features = ['anho', 'mes', 'dia', 'vendedor_id','producto_id','id_cliente', 'margen_bruto']\n",
    "\n",
    "# define X and y\n",
    "X = df[features].values\n",
    "y = df['ventas'].values"
   ]
  },
  {
   "cell_type": "code",
   "execution_count": 22,
   "metadata": {},
   "outputs": [],
   "source": [
    "# scale all numeric features\n",
    "scaler = StandardScaler()\n",
    "X = scaler.fit_transform(X.astype(np.float))"
   ]
  },
  {
   "cell_type": "code",
   "execution_count": 23,
   "metadata": {},
   "outputs": [],
   "source": [
    "# split dataframe into training and test set\n",
    "X_train, X_test, y_train, y_test = train_test_split(X, y, test_size=0.3, random_state=42)"
   ]
  },
  {
   "cell_type": "markdown",
   "metadata": {},
   "source": [
    "#### 4.2. Predictive models"
   ]
  },
  {
   "cell_type": "markdown",
   "metadata": {},
   "source": [
    "For this problem I will try 3 different models:\n",
    "\n",
    "- Linear Regression\n",
    "- Decision Tree\n",
    "- Random Forest\n",
    "\n",
    "Let's evaluate them:"
   ]
  },
  {
   "cell_type": "code",
   "execution_count": 24,
   "metadata": {},
   "outputs": [],
   "source": [
    "seed=42\n",
    "\n",
    "# define models\n",
    "models = {'Linear Regression': LinearRegression(),\n",
    "          'Decision Tree':DecisionTreeRegressor(random_state=seed),\n",
    "          'Random Forest':RandomForestRegressor(n_jobs=-1, n_estimators=10, random_state=seed)}\n",
    "\n",
    "y_pred = pd.DataFrame(columns=models.keys())\n",
    "results = []\n",
    "\n",
    "# train, predict and evaluate each model\n",
    "for model in models.keys():  \n",
    "    scores = cross_val_score(models[model], X_train, y_train, scoring=\"neg_mean_squared_error\", cv=10)\n",
    "    rmse = np.sqrt(-scores)\n",
    "    results.append({'Rmse': rmse.mean(),\n",
    "                    'Model': str(model)})"
   ]
  },
  {
   "cell_type": "code",
   "execution_count": 25,
   "metadata": {},
   "outputs": [
    {
     "data": {
      "text/html": [
       "<div>\n",
       "<style scoped>\n",
       "    .dataframe tbody tr th:only-of-type {\n",
       "        vertical-align: middle;\n",
       "    }\n",
       "\n",
       "    .dataframe tbody tr th {\n",
       "        vertical-align: top;\n",
       "    }\n",
       "\n",
       "    .dataframe thead th {\n",
       "        text-align: right;\n",
       "    }\n",
       "</style>\n",
       "<table border=\"1\" class=\"dataframe\">\n",
       "  <thead>\n",
       "    <tr style=\"text-align: right;\">\n",
       "      <th></th>\n",
       "      <th>Rmse</th>\n",
       "    </tr>\n",
       "    <tr>\n",
       "      <th>Model</th>\n",
       "      <th></th>\n",
       "    </tr>\n",
       "  </thead>\n",
       "  <tbody>\n",
       "    <tr>\n",
       "      <th>Random Forest</th>\n",
       "      <td>275.317447</td>\n",
       "    </tr>\n",
       "    <tr>\n",
       "      <th>Decision Tree</th>\n",
       "      <td>326.853326</td>\n",
       "    </tr>\n",
       "    <tr>\n",
       "      <th>Linear Regression</th>\n",
       "      <td>393.666875</td>\n",
       "    </tr>\n",
       "  </tbody>\n",
       "</table>\n",
       "</div>"
      ],
      "text/plain": [
       "                         Rmse\n",
       "Model                        \n",
       "Random Forest      275.317447\n",
       "Decision Tree      326.853326\n",
       "Linear Regression  393.666875"
      ]
     },
     "execution_count": 25,
     "metadata": {},
     "output_type": "execute_result"
    }
   ],
   "source": [
    "models_results = pd.DataFrame(results)\n",
    "models_results.sort_values('Rmse', inplace=True)\n",
    "models_results = models_results.set_index('Model')\n",
    "models_results"
   ]
  },
  {
   "cell_type": "markdown",
   "metadata": {},
   "source": [
    "**Random Forest** is the best model in terms of RMSE"
   ]
  },
  {
   "cell_type": "markdown",
   "metadata": {},
   "source": [
    "#### 4.3. Tuning the model"
   ]
  },
  {
   "cell_type": "code",
   "execution_count": 26,
   "metadata": {},
   "outputs": [
    {
     "data": {
      "text/plain": [
       "GridSearchCV(cv=10, error_score='raise-deprecating',\n",
       "       estimator=RandomForestRegressor(bootstrap=True, criterion='mse', max_depth=None,\n",
       "           max_features='auto', max_leaf_nodes=None,\n",
       "           min_impurity_decrease=0.0, min_impurity_split=None,\n",
       "           min_samples_leaf=1, min_samples_split=2,\n",
       "           min_weight_fraction_leaf=0.0, n_estimators='warn', n_jobs=-1,\n",
       "           oob_score=False, random_state=42, verbose=0, warm_start=False),\n",
       "       fit_params=None, iid='warn', n_jobs=None,\n",
       "       param_grid=[{'n_estimators': [200, 500, 1000], 'max_features': [2, 3, 4, 5, 6, 7]}],\n",
       "       pre_dispatch='2*n_jobs', refit=True, return_train_score=True,\n",
       "       scoring='neg_mean_squared_error', verbose=0)"
      ]
     },
     "execution_count": 26,
     "metadata": {},
     "output_type": "execute_result"
    }
   ],
   "source": [
    "from sklearn.model_selection import GridSearchCV\n",
    "\n",
    "param_grid = [\n",
    "    {'n_estimators': [200, 500, 1000], 'max_features': [2, 3, 4, 5, 6, 7]},\n",
    "]\n",
    "\n",
    "forest_reg = RandomForestRegressor(n_jobs=-1, random_state=seed)\n",
    "grid_search = GridSearchCV(forest_reg, param_grid, cv=10,\n",
    "                           scoring='neg_mean_squared_error', return_train_score=True)\n",
    "grid_search.fit(X_train, y_train)"
   ]
  },
  {
   "cell_type": "markdown",
   "metadata": {},
   "source": [
    "The best hyperparameter combination found:"
   ]
  },
  {
   "cell_type": "code",
   "execution_count": 27,
   "metadata": {},
   "outputs": [
    {
     "data": {
      "text/plain": [
       "{'max_features': 4, 'n_estimators': 1000}"
      ]
     },
     "execution_count": 27,
     "metadata": {},
     "output_type": "execute_result"
    }
   ],
   "source": [
    "grid_search.best_params_"
   ]
  },
  {
   "cell_type": "code",
   "execution_count": 28,
   "metadata": {},
   "outputs": [],
   "source": [
    "feature_importances = grid_search.best_estimator_.feature_importances_"
   ]
  },
  {
   "cell_type": "code",
   "execution_count": 29,
   "metadata": {},
   "outputs": [
    {
     "data": {
      "text/plain": [
       "[(0.5415690325998875, 'margen_bruto'),\n",
       " (0.2917639698662191, 'producto_id'),\n",
       " (0.12619442395205335, 'anho'),\n",
       " (0.012528467605843344, 'mes'),\n",
       " (0.009941270093650874, 'dia'),\n",
       " (0.009460349657934207, 'id_cliente'),\n",
       " (0.008542486224411776, 'vendedor_id')]"
      ]
     },
     "execution_count": 29,
     "metadata": {},
     "output_type": "execute_result"
    }
   ],
   "source": [
    "sorted(zip(feature_importances, features), reverse=True)"
   ]
  },
  {
   "cell_type": "code",
   "execution_count": 30,
   "metadata": {},
   "outputs": [
    {
     "name": "stdout",
     "output_type": "stream",
     "text": [
      "final_rmse: 194.12548380470076\n"
     ]
    }
   ],
   "source": [
    "final_model = grid_search.best_estimator_\n",
    "\n",
    "final_predictions = final_model.predict(X_test)\n",
    "\n",
    "final_mse = mean_squared_error(y_test, final_predictions)\n",
    "print('final_rmse:', np.sqrt(final_mse))"
   ]
  },
  {
   "cell_type": "markdown",
   "metadata": {},
   "source": [
    "95% confidence interval for the test RMSE:"
   ]
  },
  {
   "cell_type": "code",
   "execution_count": 31,
   "metadata": {},
   "outputs": [],
   "source": [
    "from scipy import stats"
   ]
  },
  {
   "cell_type": "code",
   "execution_count": 32,
   "metadata": {},
   "outputs": [
    {
     "data": {
      "text/plain": [
       "array([102.32869446, 254.75133997])"
      ]
     },
     "execution_count": 32,
     "metadata": {},
     "output_type": "execute_result"
    }
   ],
   "source": [
    "confidence = 0.95\n",
    "squared_errors = (final_predictions - y_test) ** 2\n",
    "mean = squared_errors.mean()\n",
    "m = len(squared_errors)\n",
    "\n",
    "np.sqrt(stats.t.interval(confidence, m - 1,\n",
    "                         loc=np.mean(squared_errors),\n",
    "                         scale=stats.sem(squared_errors)))"
   ]
  },
  {
   "cell_type": "markdown",
   "metadata": {},
   "source": [
    "#### 4.4. Making predictions"
   ]
  },
  {
   "cell_type": "code",
   "execution_count": 33,
   "metadata": {},
   "outputs": [
    {
     "data": {
      "text/html": [
       "<div>\n",
       "<style scoped>\n",
       "    .dataframe tbody tr th:only-of-type {\n",
       "        vertical-align: middle;\n",
       "    }\n",
       "\n",
       "    .dataframe tbody tr th {\n",
       "        vertical-align: top;\n",
       "    }\n",
       "\n",
       "    .dataframe thead th {\n",
       "        text-align: right;\n",
       "    }\n",
       "</style>\n",
       "<table border=\"1\" class=\"dataframe\">\n",
       "  <thead>\n",
       "    <tr style=\"text-align: right;\">\n",
       "      <th></th>\n",
       "      <th>anho</th>\n",
       "      <th>mes</th>\n",
       "      <th>dia</th>\n",
       "      <th>vendedor_id</th>\n",
       "      <th>producto_id</th>\n",
       "      <th>id_cliente</th>\n",
       "      <th>margen_bruto</th>\n",
       "      <th>date</th>\n",
       "    </tr>\n",
       "  </thead>\n",
       "  <tbody>\n",
       "    <tr>\n",
       "      <th>0</th>\n",
       "      <td>2012</td>\n",
       "      <td>1</td>\n",
       "      <td>1</td>\n",
       "      <td>2027</td>\n",
       "      <td>4000</td>\n",
       "      <td>1039</td>\n",
       "      <td>2623</td>\n",
       "      <td>2012-01-01</td>\n",
       "    </tr>\n",
       "    <tr>\n",
       "      <th>1</th>\n",
       "      <td>2012</td>\n",
       "      <td>1</td>\n",
       "      <td>4</td>\n",
       "      <td>2027</td>\n",
       "      <td>4000</td>\n",
       "      <td>1067</td>\n",
       "      <td>2684</td>\n",
       "      <td>2012-01-04</td>\n",
       "    </tr>\n",
       "    <tr>\n",
       "      <th>2</th>\n",
       "      <td>2012</td>\n",
       "      <td>1</td>\n",
       "      <td>7</td>\n",
       "      <td>2005</td>\n",
       "      <td>4000</td>\n",
       "      <td>1010</td>\n",
       "      <td>2830</td>\n",
       "      <td>2012-01-07</td>\n",
       "    </tr>\n",
       "    <tr>\n",
       "      <th>3</th>\n",
       "      <td>2012</td>\n",
       "      <td>1</td>\n",
       "      <td>11</td>\n",
       "      <td>2016</td>\n",
       "      <td>4000</td>\n",
       "      <td>1097</td>\n",
       "      <td>2318</td>\n",
       "      <td>2012-01-11</td>\n",
       "    </tr>\n",
       "    <tr>\n",
       "      <th>4</th>\n",
       "      <td>2012</td>\n",
       "      <td>1</td>\n",
       "      <td>14</td>\n",
       "      <td>2006</td>\n",
       "      <td>1000</td>\n",
       "      <td>1103</td>\n",
       "      <td>1993</td>\n",
       "      <td>2012-01-14</td>\n",
       "    </tr>\n",
       "  </tbody>\n",
       "</table>\n",
       "</div>"
      ],
      "text/plain": [
       "   anho  mes  dia  vendedor_id  producto_id  id_cliente  margen_bruto  \\\n",
       "0  2012    1    1         2027         4000        1039          2623   \n",
       "1  2012    1    4         2027         4000        1067          2684   \n",
       "2  2012    1    7         2005         4000        1010          2830   \n",
       "3  2012    1   11         2016         4000        1097          2318   \n",
       "4  2012    1   14         2006         1000        1103          1993   \n",
       "\n",
       "        date  \n",
       "0 2012-01-01  \n",
       "1 2012-01-04  \n",
       "2 2012-01-07  \n",
       "3 2012-01-11  \n",
       "4 2012-01-14  "
      ]
     },
     "execution_count": 33,
     "metadata": {},
     "output_type": "execute_result"
    }
   ],
   "source": [
    "dataTesting = pd.read_excel('test_data.xls')\n",
    "clean_columns(dataTesting)\n",
    "dataTesting.head()"
   ]
  },
  {
   "cell_type": "code",
   "execution_count": 34,
   "metadata": {},
   "outputs": [],
   "source": [
    "# scaling features\n",
    "test = dataTesting.drop('date', axis=1).values\n",
    "test = scaler.transform(test.astype(np.float))"
   ]
  },
  {
   "cell_type": "code",
   "execution_count": 35,
   "metadata": {},
   "outputs": [
    {
     "data": {
      "text/html": [
       "<div>\n",
       "<style scoped>\n",
       "    .dataframe tbody tr th:only-of-type {\n",
       "        vertical-align: middle;\n",
       "    }\n",
       "\n",
       "    .dataframe tbody tr th {\n",
       "        vertical-align: top;\n",
       "    }\n",
       "\n",
       "    .dataframe thead th {\n",
       "        text-align: right;\n",
       "    }\n",
       "</style>\n",
       "<table border=\"1\" class=\"dataframe\">\n",
       "  <thead>\n",
       "    <tr style=\"text-align: right;\">\n",
       "      <th></th>\n",
       "      <th>anho</th>\n",
       "      <th>mes</th>\n",
       "      <th>dia</th>\n",
       "      <th>vendedor_id</th>\n",
       "      <th>producto_id</th>\n",
       "      <th>id_cliente</th>\n",
       "      <th>margen_bruto</th>\n",
       "      <th>date</th>\n",
       "      <th>ventas</th>\n",
       "    </tr>\n",
       "  </thead>\n",
       "  <tbody>\n",
       "    <tr>\n",
       "      <th>0</th>\n",
       "      <td>2012</td>\n",
       "      <td>1</td>\n",
       "      <td>1</td>\n",
       "      <td>2027</td>\n",
       "      <td>4000</td>\n",
       "      <td>1039</td>\n",
       "      <td>2623</td>\n",
       "      <td>2012-01-01</td>\n",
       "      <td>5371.5451</td>\n",
       "    </tr>\n",
       "    <tr>\n",
       "      <th>1</th>\n",
       "      <td>2012</td>\n",
       "      <td>1</td>\n",
       "      <td>4</td>\n",
       "      <td>2027</td>\n",
       "      <td>4000</td>\n",
       "      <td>1067</td>\n",
       "      <td>2684</td>\n",
       "      <td>2012-01-04</td>\n",
       "      <td>5506.2871</td>\n",
       "    </tr>\n",
       "    <tr>\n",
       "      <th>2</th>\n",
       "      <td>2012</td>\n",
       "      <td>1</td>\n",
       "      <td>7</td>\n",
       "      <td>2005</td>\n",
       "      <td>4000</td>\n",
       "      <td>1010</td>\n",
       "      <td>2830</td>\n",
       "      <td>2012-01-07</td>\n",
       "      <td>5336.6014</td>\n",
       "    </tr>\n",
       "    <tr>\n",
       "      <th>3</th>\n",
       "      <td>2012</td>\n",
       "      <td>1</td>\n",
       "      <td>11</td>\n",
       "      <td>2016</td>\n",
       "      <td>4000</td>\n",
       "      <td>1097</td>\n",
       "      <td>2318</td>\n",
       "      <td>2012-01-11</td>\n",
       "      <td>5649.0550</td>\n",
       "    </tr>\n",
       "    <tr>\n",
       "      <th>4</th>\n",
       "      <td>2012</td>\n",
       "      <td>1</td>\n",
       "      <td>14</td>\n",
       "      <td>2006</td>\n",
       "      <td>1000</td>\n",
       "      <td>1103</td>\n",
       "      <td>1993</td>\n",
       "      <td>2012-01-14</td>\n",
       "      <td>3687.3020</td>\n",
       "    </tr>\n",
       "  </tbody>\n",
       "</table>\n",
       "</div>"
      ],
      "text/plain": [
       "   anho  mes  dia  vendedor_id  producto_id  id_cliente  margen_bruto  \\\n",
       "0  2012    1    1         2027         4000        1039          2623   \n",
       "1  2012    1    4         2027         4000        1067          2684   \n",
       "2  2012    1    7         2005         4000        1010          2830   \n",
       "3  2012    1   11         2016         4000        1097          2318   \n",
       "4  2012    1   14         2006         1000        1103          1993   \n",
       "\n",
       "        date     ventas  \n",
       "0 2012-01-01  5371.5451  \n",
       "1 2012-01-04  5506.2871  \n",
       "2 2012-01-07  5336.6014  \n",
       "3 2012-01-11  5649.0550  \n",
       "4 2012-01-14  3687.3020  "
      ]
     },
     "execution_count": 35,
     "metadata": {},
     "output_type": "execute_result"
    }
   ],
   "source": [
    "dataTesting['ventas'] = final_model.predict(test)\n",
    "dataTesting.head()"
   ]
  },
  {
   "cell_type": "code",
   "execution_count": 36,
   "metadata": {},
   "outputs": [
    {
     "data": {
      "image/png": "[encoded data removed]",
      "text/plain": [
       "<Figure size 720x360 with 1 Axes>"
      ]
     },
     "metadata": {
      "needs_background": "light"
     },
     "output_type": "display_data"
    }
   ],
   "source": [
    "fig = plt.figure(figsize=(10,5))\n",
    "\n",
    "for frame in [df, dataTesting]:\n",
    "    plt.plot(frame['date'], frame['ventas'])\n",
    "plt.show()"
   ]
  },
  {
   "cell_type": "code",
   "execution_count": 37,
   "metadata": {},
   "outputs": [
    {
     "data": {
      "image/png": "[encoded data removed]",
      "text/plain": [
       "<Figure size 720x360 with 1 Axes>"
      ]
     },
     "metadata": {
      "needs_background": "light"
     },
     "output_type": "display_data"
    }
   ],
   "source": [
    "ventas = dataTesting.groupby('id_cliente').agg({'ventas':np.sum})\n",
    "ventas.sort_values('ventas', ascending=False).plot(kind='bar', sort_columns=True, figsize=(10,5))\n",
    "plt.show()"
   ]
  },
  {
   "cell_type": "code",
   "execution_count": 38,
   "metadata": {},
   "outputs": [
    {
     "data": {
      "text/html": [
       "<div>\n",
       "<style scoped>\n",
       "    .dataframe tbody tr th:only-of-type {\n",
       "        vertical-align: middle;\n",
       "    }\n",
       "\n",
       "    .dataframe tbody tr th {\n",
       "        vertical-align: top;\n",
       "    }\n",
       "\n",
       "    .dataframe thead th {\n",
       "        text-align: right;\n",
       "    }\n",
       "</style>\n",
       "<table border=\"1\" class=\"dataframe\">\n",
       "  <thead>\n",
       "    <tr style=\"text-align: right;\">\n",
       "      <th></th>\n",
       "      <th>ventas</th>\n",
       "    </tr>\n",
       "    <tr>\n",
       "      <th>id_cliente</th>\n",
       "      <th></th>\n",
       "    </tr>\n",
       "  </thead>\n",
       "  <tbody>\n",
       "    <tr>\n",
       "      <th>1110</th>\n",
       "      <td>9.4</td>\n",
       "    </tr>\n",
       "    <tr>\n",
       "      <th>1102</th>\n",
       "      <td>7.1</td>\n",
       "    </tr>\n",
       "    <tr>\n",
       "      <th>1008</th>\n",
       "      <td>7.0</td>\n",
       "    </tr>\n",
       "    <tr>\n",
       "      <th>1164</th>\n",
       "      <td>7.0</td>\n",
       "    </tr>\n",
       "    <tr>\n",
       "      <th>1011</th>\n",
       "      <td>5.2</td>\n",
       "    </tr>\n",
       "    <tr>\n",
       "      <th>1086</th>\n",
       "      <td>3.6</td>\n",
       "    </tr>\n",
       "    <tr>\n",
       "      <th>1096</th>\n",
       "      <td>3.6</td>\n",
       "    </tr>\n",
       "    <tr>\n",
       "      <th>1093</th>\n",
       "      <td>3.6</td>\n",
       "    </tr>\n",
       "    <tr>\n",
       "      <th>1078</th>\n",
       "      <td>3.3</td>\n",
       "    </tr>\n",
       "    <tr>\n",
       "      <th>1097</th>\n",
       "      <td>3.3</td>\n",
       "    </tr>\n",
       "  </tbody>\n",
       "</table>\n",
       "</div>"
      ],
      "text/plain": [
       "            ventas\n",
       "id_cliente        \n",
       "1110           9.4\n",
       "1102           7.1\n",
       "1008           7.0\n",
       "1164           7.0\n",
       "1011           5.2\n",
       "1086           3.6\n",
       "1096           3.6\n",
       "1093           3.6\n",
       "1078           3.3\n",
       "1097           3.3"
      ]
     },
     "execution_count": 38,
     "metadata": {},
     "output_type": "execute_result"
    }
   ],
   "source": [
    "# top 10 customers during the next two years, representing 53% of total sales\n",
    "ventas_pct = dataTesting.groupby('id_cliente').agg({'ventas':np.sum}).apply(lambda x:((x / x.sum())*100).round(1))\n",
    "ventas_pct.sort_values('ventas', ascending=False).head(10)"
   ]
  },
  {
   "cell_type": "code",
   "execution_count": 39,
   "metadata": {},
   "outputs": [
    {
     "data": {
      "text/plain": [
       "ventas    53.1\n",
       "dtype: float64"
      ]
     },
     "execution_count": 39,
     "metadata": {},
     "output_type": "execute_result"
    }
   ],
   "source": [
    "ventas_pct.sort_values('ventas', ascending=False).head(10).sum()"
   ]
  }
 ],
 "metadata": {
  "kernelspec": {
   "display_name": "Python 3",
   "language": "python",
   "name": "python3"
  },
  "language_info": {
   "codemirror_mode": {
    "name": "ipython",
    "version": 3
   },
   "file_extension": ".py",
   "mimetype": "text/x-python",
   "name": "python",
   "nbconvert_exporter": "python",
   "pygments_lexer": "ipython3",
   "version": "3.7.3"
  }
 },
 "nbformat": 4,
 "nbformat_minor": 2
}
